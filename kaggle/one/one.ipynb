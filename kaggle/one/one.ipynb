{
 "cells": [
  {
   "cell_type": "markdown",
   "id": "d779a1a2",
   "metadata": {},
   "source": [
    "\n",
    "# 📊 Social Media Usage Analysis: Student Dataset\n",
    "\n",
    "This notebook performs end-to-end exploration and analysis on a dataset containing student information, including age, usage hours, mental health scores, and academic performance.\n",
    "\n",
    "## Covered Sections:\n",
    "1. Basic Data Exploration\n",
    "2. Missing Data Investigation\n",
    "3. Duplicate Check\n",
    "4. Data Validation\n",
    "5. Descriptive Statistics\n",
    "6. Platform Stats\n",
    "7. Usage Patterns\n",
    "8. Academic Impact\n",
    "9. Sleep & Mental Health\n",
    "10. Country Analysis\n",
    "11. Relationship Status\n",
    "12. New Categories (Binning)\n"
   ]
  },
  {
   "cell_type": "code",
   "execution_count": 3,
   "id": "23854a17",
   "metadata": {},
   "outputs": [],
   "source": [
    "\n",
    "import numpy as np\n",
    "import pandas as pd\n",
    "\n",
    "# Load CSV dataset\n",
    "df = pd.read_csv(r\"C:\\Users\\wwwsh\\OneDrive\\Desktop\\proj_1\\data_sci\\kaggle\\one\\one.csv\")\n"
   ]
  },
  {
   "cell_type": "markdown",
   "id": "f49df95d",
   "metadata": {},
   "source": [
    "## 1. 📌 Basic Data Exploration"
   ]
  },
  {
   "cell_type": "code",
   "execution_count": 4,
   "id": "9346480e",
   "metadata": {},
   "outputs": [
    {
     "name": "stdout",
     "output_type": "stream",
     "text": [
      "<class 'pandas.core.frame.DataFrame'>\n",
      "RangeIndex: 705 entries, 0 to 704\n",
      "Data columns (total 13 columns):\n",
      " #   Column                        Non-Null Count  Dtype  \n",
      "---  ------                        --------------  -----  \n",
      " 0   Student_ID                    705 non-null    int64  \n",
      " 1   Age                           705 non-null    int64  \n",
      " 2   Gender                        705 non-null    object \n",
      " 3   Academic_Level                705 non-null    object \n",
      " 4   Country                       705 non-null    object \n",
      " 5   Avg_Daily_Usage_Hours         705 non-null    float64\n",
      " 6   Most_Used_Platform            705 non-null    object \n",
      " 7   Affects_Academic_Performance  705 non-null    object \n",
      " 8   Sleep_Hours_Per_Night         705 non-null    float64\n",
      " 9   Mental_Health_Score           705 non-null    int64  \n",
      " 10  Relationship_Status           705 non-null    object \n",
      " 11  Conflicts_Over_Social_Media   705 non-null    int64  \n",
      " 12  Addicted_Score                705 non-null    int64  \n",
      "dtypes: float64(2), int64(5), object(6)\n",
      "memory usage: 71.7+ KB\n",
      "None\n",
      "   Student_ID  Age  Gender Academic_Level     Country  Avg_Daily_Usage_Hours  \\\n",
      "0           1   19  Female  Undergraduate  Bangladesh                    5.2   \n",
      "1           2   22    Male       Graduate       India                    2.1   \n",
      "2           3   20  Female  Undergraduate         USA                    6.0   \n",
      "3           4   18    Male    High School          UK                    3.0   \n",
      "4           5   21    Male       Graduate      Canada                    4.5   \n",
      "\n",
      "  Most_Used_Platform Affects_Academic_Performance  Sleep_Hours_Per_Night  \\\n",
      "0          Instagram                          Yes                    6.5   \n",
      "1            Twitter                           No                    7.5   \n",
      "2             TikTok                          Yes                    5.0   \n",
      "3            YouTube                           No                    7.0   \n",
      "4           Facebook                          Yes                    6.0   \n",
      "\n",
      "   Mental_Health_Score Relationship_Status  Conflicts_Over_Social_Media  \\\n",
      "0                    6     In Relationship                            3   \n",
      "1                    8              Single                            0   \n",
      "2                    5         Complicated                            4   \n",
      "3                    7              Single                            1   \n",
      "4                    6     In Relationship                            2   \n",
      "\n",
      "   Addicted_Score  \n",
      "0               8  \n",
      "1               3  \n",
      "2               9  \n",
      "3               4  \n",
      "4               7  \n",
      "     Student_ID  Age  Gender Academic_Level Country  Avg_Daily_Usage_Hours  \\\n",
      "700         701   20  Female  Undergraduate   Italy                    4.7   \n",
      "701         702   23    Male       Graduate  Russia                    6.8   \n",
      "702         703   21  Female  Undergraduate   China                    5.6   \n",
      "703         704   24    Male       Graduate   Japan                    4.3   \n",
      "704         705   19  Female  Undergraduate  Poland                    6.2   \n",
      "\n",
      "    Most_Used_Platform Affects_Academic_Performance  Sleep_Hours_Per_Night  \\\n",
      "700             TikTok                           No                    7.2   \n",
      "701          Instagram                          Yes                    5.9   \n",
      "702             WeChat                          Yes                    6.7   \n",
      "703            Twitter                           No                    7.5   \n",
      "704           Facebook                          Yes                    6.3   \n",
      "\n",
      "     Mental_Health_Score Relationship_Status  Conflicts_Over_Social_Media  \\\n",
      "700                    7     In Relationship                            2   \n",
      "701                    4              Single                            5   \n",
      "702                    6     In Relationship                            3   \n",
      "703                    8              Single                            2   \n",
      "704                    5              Single                            4   \n",
      "\n",
      "     Addicted_Score  \n",
      "700               5  \n",
      "701               9  \n",
      "702               7  \n",
      "703               4  \n",
      "704               8  \n",
      "Mean Age: 20.659574468085108\n",
      "Max Daily Usage (Hours): 8.5\n",
      "Min Daily Usage (Hours): 1.5\n",
      "Mean Mental Health Score: 6.226950354609929\n"
     ]
    }
   ],
   "source": [
    "\n",
    "print(df.info())\n",
    "print(df.head())\n",
    "print(df.tail())\n",
    "\n",
    "print(\"Mean Age:\", df[\"Age\"].mean())\n",
    "print(\"Max Daily Usage (Hours):\", df[\"Avg_Daily_Usage_Hours\"].max())\n",
    "print(\"Min Daily Usage (Hours):\", df[\"Avg_Daily_Usage_Hours\"].min())\n",
    "print(\"Mean Mental Health Score:\", df[\"Mental_Health_Score\"].mean())\n"
   ]
  },
  {
   "cell_type": "markdown",
   "id": "94f9516f",
   "metadata": {},
   "source": [
    "## 2. 🔍 Missing Data Investigation"
   ]
  },
  {
   "cell_type": "code",
   "execution_count": 5,
   "id": "1148068d",
   "metadata": {},
   "outputs": [
    {
     "name": "stdout",
     "output_type": "stream",
     "text": [
      "Missing Values per Column:\n",
      "Student_ID                      0\n",
      "Age                             0\n",
      "Gender                          0\n",
      "Academic_Level                  0\n",
      "Country                         0\n",
      "Avg_Daily_Usage_Hours           0\n",
      "Most_Used_Platform              0\n",
      "Affects_Academic_Performance    0\n",
      "Sleep_Hours_Per_Night           0\n",
      "Mental_Health_Score             0\n",
      "Relationship_Status             0\n",
      "Conflicts_Over_Social_Media     0\n",
      "Addicted_Score                  0\n",
      "dtype: int64\n"
     ]
    }
   ],
   "source": [
    "\n",
    "print(\"Missing Values per Column:\")\n",
    "print(df.isnull().sum())\n"
   ]
  },
  {
   "cell_type": "markdown",
   "id": "a27e2b66",
   "metadata": {},
   "source": [
    "## 3. 📑 Duplicate Check"
   ]
  },
  {
   "cell_type": "code",
   "execution_count": 6,
   "id": "5951e1fd",
   "metadata": {},
   "outputs": [
    {
     "name": "stdout",
     "output_type": "stream",
     "text": [
      "Duplicate Student_IDs: 0\n",
      "Duplicate Rows: 0\n"
     ]
    }
   ],
   "source": [
    "\n",
    "print(\"Duplicate Student_IDs:\", df['Student_ID'].duplicated().sum())\n",
    "print(\"Duplicate Rows:\", df.duplicated().sum())\n"
   ]
  },
  {
   "cell_type": "markdown",
   "id": "ccff1350",
   "metadata": {},
   "source": [
    "## 4. ✅ Data Validation"
   ]
  },
  {
   "cell_type": "code",
   "execution_count": 7,
   "id": "8f02bbb5",
   "metadata": {},
   "outputs": [
    {
     "name": "stdout",
     "output_type": "stream",
     "text": [
      "Invalid Age Entries: 0\n",
      "Unrealistic Daily Usage (>24hrs): 0\n",
      "Invalid Sleep Hours (<0): 0\n",
      "Invalid Sleep Hours (>24): 0\n"
     ]
    }
   ],
   "source": [
    "\n",
    "print(\"Invalid Age Entries:\", (df['Age'] < 0).sum())\n",
    "print(\"Unrealistic Daily Usage (>24hrs):\", (df['Avg_Daily_Usage_Hours'] > 24).sum())\n",
    "print(\"Invalid Sleep Hours (<0):\", (df['Sleep_Hours_Per_Night'] < 0).sum())\n",
    "print(\"Invalid Sleep Hours (>24):\", (df['Sleep_Hours_Per_Night'] > 24).sum())\n"
   ]
  },
  {
   "cell_type": "markdown",
   "id": "9fd396d3",
   "metadata": {},
   "source": [
    "## 5. 📊 Descriptive Statistics"
   ]
  },
  {
   "cell_type": "code",
   "execution_count": 8,
   "id": "486db730",
   "metadata": {},
   "outputs": [
    {
     "name": "stdout",
     "output_type": "stream",
     "text": [
      "Age - Mean: 20.659574468085108 , Mode: 20\n",
      "Gender Count: Gender\n",
      "Female    353\n",
      "Male      352\n",
      "Name: count, dtype: int64\n",
      "Avg Daily Usage - Mean: 4.918723404255319 , Mode: 4.7\n",
      "Mental Health Score - Mean: 6.226950354609929\n"
     ]
    }
   ],
   "source": [
    "\n",
    "print(\"Age - Mean:\", df[\"Age\"].mean(), \", Mode:\", df[\"Age\"].mode()[0])\n",
    "print(\"Gender Count:\", df[\"Gender\"].value_counts())\n",
    "print(\"Avg Daily Usage - Mean:\", df[\"Avg_Daily_Usage_Hours\"].mean(), \", Mode:\", df[\"Avg_Daily_Usage_Hours\"].mode()[0])\n",
    "print(\"Mental Health Score - Mean:\", df[\"Mental_Health_Score\"].mean())\n"
   ]
  },
  {
   "cell_type": "markdown",
   "id": "4ce1c23f",
   "metadata": {},
   "source": [
    "## 6.  Platform Stats"
   ]
  },
  {
   "cell_type": "code",
   "execution_count": 9,
   "id": "11966b62",
   "metadata": {},
   "outputs": [
    {
     "name": "stdout",
     "output_type": "stream",
     "text": [
      "Most_Used_Platform\n",
      "Instagram    249\n",
      "TikTok       154\n",
      "Facebook     123\n",
      "WhatsApp      54\n",
      "Twitter       30\n",
      "LinkedIn      21\n",
      "WeChat        15\n",
      "Snapchat      13\n",
      "VKontakte     12\n",
      "LINE          12\n",
      "KakaoTalk     12\n",
      "YouTube       10\n",
      "Name: count, dtype: int64\n",
      "Most Used Platform: Instagram | Count: 249\n",
      "Gender vs Platform Crosstab:\n",
      "Gender              Female  Male\n",
      "Most_Used_Platform              \n",
      "Facebook                24    99\n",
      "Instagram              172    77\n",
      "KakaoTalk               12     0\n",
      "LINE                    12     0\n",
      "LinkedIn                 8    13\n",
      "Snapchat                 8     5\n",
      "TikTok                  86    68\n",
      "Twitter                 16    14\n",
      "VKontakte                0    12\n",
      "WeChat                   4    11\n",
      "WhatsApp                11    43\n",
      "YouTube                  0    10\n"
     ]
    }
   ],
   "source": [
    "\n",
    "pf = df['Most_Used_Platform'].value_counts()\n",
    "print(pf)\n",
    "print(\"Most Used Platform:\", pf.idxmax(), \"| Count:\", pf.max())\n",
    "\n",
    "print(\"Gender vs Platform Crosstab:\")\n",
    "print(pd.crosstab(df['Most_Used_Platform'], df['Gender']))\n"
   ]
  },
  {
   "cell_type": "markdown",
   "id": "364d2440",
   "metadata": {},
   "source": [
    "## 7. 📈 Usage Patterns"
   ]
  },
  {
   "cell_type": "code",
   "execution_count": 10,
   "id": "7397c55d",
   "metadata": {},
   "outputs": [
    {
     "name": "stdout",
     "output_type": "stream",
     "text": [
      "Academic_Level\n",
      "Graduate         4.776923\n",
      "High School      5.544444\n",
      "Undergraduate    5.001416\n",
      "Name: Avg_Daily_Usage_Hours, dtype: float64\n",
      "Gender\n",
      "Female    5.011048\n",
      "Male      4.826136\n",
      "Name: Avg_Daily_Usage_Hours, dtype: float64\n",
      "Age_Group\n",
      "18-19    5.141243\n",
      "20-21    4.940187\n",
      "22-24    4.695169\n",
      "25+           NaN\n",
      "Name: Avg_Daily_Usage_Hours, dtype: float64\n"
     ]
    },
    {
     "name": "stderr",
     "output_type": "stream",
     "text": [
      "C:\\Users\\wwwsh\\AppData\\Local\\Temp\\ipykernel_42056\\1963643226.py:5: FutureWarning: The default of observed=False is deprecated and will be changed to True in a future version of pandas. Pass observed=False to retain current behavior or observed=True to adopt the future default and silence this warning.\n",
      "  print(df.groupby(\"Age_Group\")[\"Avg_Daily_Usage_Hours\"].mean())\n"
     ]
    }
   ],
   "source": [
    "\n",
    "print(df.groupby('Academic_Level')[\"Avg_Daily_Usage_Hours\"].mean())\n",
    "print(df.groupby('Gender')[\"Avg_Daily_Usage_Hours\"].mean())\n",
    "\n",
    "df[\"Age_Group\"] = pd.cut(df[\"Age\"], bins=[17, 19, 21, 24, 100], labels=[\"18-19\", \"20-21\", \"22-24\", \"25+\"])\n",
    "print(df.groupby(\"Age_Group\")[\"Avg_Daily_Usage_Hours\"].mean())\n"
   ]
  },
  {
   "cell_type": "markdown",
   "id": "8fd0eeda",
   "metadata": {},
   "source": [
    "## 8. 🎓 Academic Impact"
   ]
  },
  {
   "cell_type": "code",
   "execution_count": 11,
   "id": "36f9b447",
   "metadata": {},
   "outputs": [
    {
     "name": "stdout",
     "output_type": "stream",
     "text": [
      "Affects_Academic_Performance\n",
      "Yes    453\n",
      "No     252\n",
      "Name: count, dtype: int64\n",
      "Affects_Academic_Performance\n",
      "No     3.804365\n",
      "Yes    5.538631\n",
      "Name: Avg_Daily_Usage_Hours, dtype: float64\n"
     ]
    }
   ],
   "source": [
    "\n",
    "print(df['Affects_Academic_Performance'].value_counts())\n",
    "print(df.groupby('Affects_Academic_Performance')['Avg_Daily_Usage_Hours'].mean())\n"
   ]
  },
  {
   "cell_type": "markdown",
   "id": "1f9948b9",
   "metadata": {},
   "source": [
    "## 9. 💤 Sleep & Mental Health"
   ]
  },
  {
   "cell_type": "code",
   "execution_count": 12,
   "id": "7d8d5558",
   "metadata": {},
   "outputs": [
    {
     "name": "stdout",
     "output_type": "stream",
     "text": [
      "Correlation between Usage & Sleep: -0.790582455479992\n",
      "Correlation between Usage & Mental Health: -0.801057623162343\n",
      "Sleep_Group\n",
      "<6     5.259459\n",
      "6-8    6.358722\n",
      "8+     7.336283\n",
      "Name: Mental_Health_Score, dtype: float64\n"
     ]
    },
    {
     "name": "stderr",
     "output_type": "stream",
     "text": [
      "C:\\Users\\wwwsh\\AppData\\Local\\Temp\\ipykernel_42056\\2598650674.py:5: FutureWarning: The default of observed=False is deprecated and will be changed to True in a future version of pandas. Pass observed=False to retain current behavior or observed=True to adopt the future default and silence this warning.\n",
      "  print(df.groupby(\"Sleep_Group\")[\"Mental_Health_Score\"].mean())\n"
     ]
    }
   ],
   "source": [
    "\n",
    "print(\"Correlation between Usage & Sleep:\", df[\"Avg_Daily_Usage_Hours\"].corr(df[\"Sleep_Hours_Per_Night\"]))\n",
    "print(\"Correlation between Usage & Mental Health:\", df[\"Avg_Daily_Usage_Hours\"].corr(df[\"Mental_Health_Score\"]))\n",
    "\n",
    "df[\"Sleep_Group\"] = pd.cut(df[\"Sleep_Hours_Per_Night\"], bins=[0, 6, 8, 24], labels=[\"<6\", \"6-8\", \"8+\"])\n",
    "print(df.groupby(\"Sleep_Group\")[\"Mental_Health_Score\"].mean())\n"
   ]
  },
  {
   "cell_type": "markdown",
   "id": "3d53af25",
   "metadata": {},
   "source": [
    "## 10.  Country-wise Usage Analysis"
   ]
  },
  {
   "cell_type": "code",
   "execution_count": 13,
   "id": "e2ce50d8",
   "metadata": {},
   "outputs": [
    {
     "name": "stdout",
     "output_type": "stream",
     "text": [
      "Country\n",
      "India     53\n",
      "USA       40\n",
      "Canada    34\n",
      "France    27\n",
      "Mexico    27\n",
      "Name: count, dtype: int64\n",
      "Country\n",
      "Canada    4.714706\n",
      "France    4.055556\n",
      "India     6.116981\n",
      "Mexico    6.422222\n",
      "USA       6.890000\n",
      "Name: Avg_Daily_Usage_Hours, dtype: float64\n"
     ]
    }
   ],
   "source": [
    "\n",
    "ct = df[\"Country\"].value_counts()\n",
    "print(ct.head())\n",
    "\n",
    "top = ct.head().index\n",
    "print(df[df[\"Country\"].isin(top)].groupby(\"Country\")[\"Avg_Daily_Usage_Hours\"].mean())\n"
   ]
  },
  {
   "cell_type": "markdown",
   "id": "f29f50e8",
   "metadata": {},
   "source": [
    "## 11.  Relationship Status"
   ]
  },
  {
   "cell_type": "code",
   "execution_count": 14,
   "id": "6b76e5cb",
   "metadata": {},
   "outputs": [
    {
     "name": "stdout",
     "output_type": "stream",
     "text": [
      "Relationship_Status\n",
      "Single             384\n",
      "In Relationship    289\n",
      "Complicated         32\n",
      "Name: count, dtype: int64\n",
      "Relationship_Status\n",
      "Complicated        4.721875\n",
      "In Relationship    4.930796\n",
      "Single             4.926042\n",
      "Name: Avg_Daily_Usage_Hours, dtype: float64\n",
      "Relationship_Status\n",
      "Complicated        7.031250\n",
      "In Relationship    6.342561\n",
      "Single             6.458333\n",
      "Name: Addicted_Score, dtype: float64\n"
     ]
    }
   ],
   "source": [
    "\n",
    "rs = df[\"Relationship_Status\"].value_counts()\n",
    "print(rs)\n",
    "print(df.groupby(\"Relationship_Status\")[\"Avg_Daily_Usage_Hours\"].mean())\n",
    "print(df.groupby(\"Relationship_Status\")[\"Addicted_Score\"].mean())\n"
   ]
  },
  {
   "cell_type": "markdown",
   "id": "12813d35",
   "metadata": {},
   "source": [
    "## 12.  Creating New Categories"
   ]
  },
  {
   "cell_type": "code",
   "execution_count": 15,
   "id": "db9cd88b",
   "metadata": {},
   "outputs": [
    {
     "name": "stdout",
     "output_type": "stream",
     "text": [
      "Usage_Category\n",
      "Moderate    513\n",
      "Heavy       143\n",
      "Light        49\n",
      "Name: count, dtype: int64\n",
      "Age_Group\n",
      "20-21    321\n",
      "22-24    207\n",
      "18-19    177\n",
      "25+        0\n",
      "Name: count, dtype: int64\n"
     ]
    }
   ],
   "source": [
    "\n",
    "df[\"Usage_Category\"] = pd.cut(df[\"Avg_Daily_Usage_Hours\"], bins=[0,3,6,float(\"inf\")], labels=[\"Light\",\"Moderate\",\"Heavy\"])\n",
    "print(df[\"Usage_Category\"].value_counts())\n",
    "print(df[\"Age_Group\"].value_counts())\n"
   ]
  }
 ],
 "metadata": {
  "kernelspec": {
   "display_name": "Shuzury_57",
   "language": "python",
   "name": "python3"
  },
  "language_info": {
   "codemirror_mode": {
    "name": "ipython",
    "version": 3
   },
   "file_extension": ".py",
   "mimetype": "text/x-python",
   "name": "python",
   "nbconvert_exporter": "python",
   "pygments_lexer": "ipython3",
   "version": "3.12.11"
  }
 },
 "nbformat": 4,
 "nbformat_minor": 5
}
