{
 "cells": [
  {
   "cell_type": "markdown",
   "id": "d779a1a2",
   "metadata": {},
   "source": [
    "\n",
    "# 📊 Social Media Usage Analysis: Student Dataset\n",
    "\n",
    "This notebook performs end-to-end exploration and analysis on a dataset containing student information, including age, usage hours, mental health scores, and academic performance.\n",
    "\n",
    "## Covered Sections:\n",
    "1. Basic Data Exploration\n",
    "2. Missing Data Investigation\n",
    "3. Duplicate Check\n",
    "4. Data Validation\n",
    "5. Descriptive Statistics\n",
    "6. Platform Stats\n",
    "7. Usage Patterns\n",
    "8. Academic Impact\n",
    "9. Sleep & Mental Health\n",
    "10. Country Analysis\n",
    "11. Relationship Status\n",
    "12. New Categories (Binning)\n"
   ]
  },
  {
   "cell_type": "code",
   "execution_count": null,
   "id": "23854a17",
   "metadata": {},
   "outputs": [],
   "source": [
    "\n",
    "import numpy as np\n",
    "import pandas as pd\n",
    "\n",
    "# Load CSV dataset\n",
    "df = pd.read_csv(\"kaggle/one/one.csv\")\n"
   ]
  },
  {
   "cell_type": "markdown",
   "id": "f49df95d",
   "metadata": {},
   "source": [
    "## 1. 📌 Basic Data Exploration"
   ]
  },
  {
   "cell_type": "code",
   "execution_count": null,
   "id": "9346480e",
   "metadata": {},
   "outputs": [],
   "source": [
    "\n",
    "print(df.info())\n",
    "print(df.head())\n",
    "print(df.tail())\n",
    "\n",
    "print(\"Mean Age:\", df[\"Age\"].mean())\n",
    "print(\"Max Daily Usage (Hours):\", df[\"Avg_Daily_Usage_Hours\"].max())\n",
    "print(\"Min Daily Usage (Hours):\", df[\"Avg_Daily_Usage_Hours\"].min())\n",
    "print(\"Mean Mental Health Score:\", df[\"Mental_Health_Score\"].mean())\n"
   ]
  },
  {
   "cell_type": "markdown",
   "id": "94f9516f",
   "metadata": {},
   "source": [
    "## 2. 🔍 Missing Data Investigation"
   ]
  },
  {
   "cell_type": "code",
   "execution_count": null,
   "id": "1148068d",
   "metadata": {},
   "outputs": [],
   "source": [
    "\n",
    "print(\"Missing Values per Column:\")\n",
    "print(df.isnull().sum())\n"
   ]
  },
  {
   "cell_type": "markdown",
   "id": "a27e2b66",
   "metadata": {},
   "source": [
    "## 3. 📑 Duplicate Check"
   ]
  },
  {
   "cell_type": "code",
   "execution_count": null,
   "id": "5951e1fd",
   "metadata": {},
   "outputs": [],
   "source": [
    "\n",
    "print(\"Duplicate Student_IDs:\", df['Student_ID'].duplicated().sum())\n",
    "print(\"Duplicate Rows:\", df.duplicated().sum())\n"
   ]
  },
  {
   "cell_type": "markdown",
   "id": "ccff1350",
   "metadata": {},
   "source": [
    "## 4. ✅ Data Validation"
   ]
  },
  {
   "cell_type": "code",
   "execution_count": null,
   "id": "8f02bbb5",
   "metadata": {},
   "outputs": [],
   "source": [
    "\n",
    "print(\"Invalid Age Entries:\", (df['Age'] < 0).sum())\n",
    "print(\"Unrealistic Daily Usage (>24hrs):\", (df['Avg_Daily_Usage_Hours'] > 24).sum())\n",
    "print(\"Invalid Sleep Hours (<0):\", (df['Sleep_Hours_Per_Night'] < 0).sum())\n",
    "print(\"Invalid Sleep Hours (>24):\", (df['Sleep_Hours_Per_Night'] > 24).sum())\n"
   ]
  },
  {
   "cell_type": "markdown",
   "id": "9fd396d3",
   "metadata": {},
   "source": [
    "## 5. 📊 Descriptive Statistics"
   ]
  },
  {
   "cell_type": "code",
   "execution_count": null,
   "id": "486db730",
   "metadata": {},
   "outputs": [],
   "source": [
    "\n",
    "print(\"Age - Mean:\", df[\"Age\"].mean(), \", Mode:\", df[\"Age\"].mode()[0])\n",
    "print(\"Gender Count:\", df[\"Gender\"].value_counts())\n",
    "print(\"Avg Daily Usage - Mean:\", df[\"Avg_Daily_Usage_Hours\"].mean(), \", Mode:\", df[\"Avg_Daily_Usage_Hours\"].mode()[0])\n",
    "print(\"Mental Health Score - Mean:\", df[\"Mental_Health_Score\"].mean())\n"
   ]
  },
  {
   "cell_type": "markdown",
   "id": "4ce1c23f",
   "metadata": {},
   "source": [
    "## 6. 🧵 Platform Stats"
   ]
  },
  {
   "cell_type": "code",
   "execution_count": null,
   "id": "11966b62",
   "metadata": {},
   "outputs": [],
   "source": [
    "\n",
    "pf = df['Most_Used_Platform'].value_counts()\n",
    "print(pf)\n",
    "print(\"Most Used Platform:\", pf.idxmax(), \"| Count:\", pf.max())\n",
    "\n",
    "print(\"Gender vs Platform Crosstab:\")\n",
    "print(pd.crosstab(df['Most_Used_Platform'], df['Gender']))\n"
   ]
  },
  {
   "cell_type": "markdown",
   "id": "364d2440",
   "metadata": {},
   "source": [
    "## 7. 📈 Usage Patterns"
   ]
  },
  {
   "cell_type": "code",
   "execution_count": null,
   "id": "7397c55d",
   "metadata": {},
   "outputs": [],
   "source": [
    "\n",
    "print(df.groupby('Academic_Level')[\"Avg_Daily_Usage_Hours\"].mean())\n",
    "print(df.groupby('Gender')[\"Avg_Daily_Usage_Hours\"].mean())\n",
    "\n",
    "df[\"Age_Group\"] = pd.cut(df[\"Age\"], bins=[17, 19, 21, 24, 100], labels=[\"18-19\", \"20-21\", \"22-24\", \"25+\"])\n",
    "print(df.groupby(\"Age_Group\")[\"Avg_Daily_Usage_Hours\"].mean())\n"
   ]
  },
  {
   "cell_type": "markdown",
   "id": "8fd0eeda",
   "metadata": {},
   "source": [
    "## 8. 🎓 Academic Impact"
   ]
  },
  {
   "cell_type": "code",
   "execution_count": null,
   "id": "36f9b447",
   "metadata": {},
   "outputs": [],
   "source": [
    "\n",
    "print(df['Affects_Academic_Performance'].value_counts())\n",
    "print(df.groupby('Affects_Academic_Performance')['Avg_Daily_Usage_Hours'].mean())\n"
   ]
  },
  {
   "cell_type": "markdown",
   "id": "1f9948b9",
   "metadata": {},
   "source": [
    "## 9. 💤 Sleep & Mental Health"
   ]
  },
  {
   "cell_type": "code",
   "execution_count": null,
   "id": "7d8d5558",
   "metadata": {},
   "outputs": [],
   "source": [
    "\n",
    "print(\"Correlation between Usage & Sleep:\", df[\"Avg_Daily_Usage_Hours\"].corr(df[\"Sleep_Hours_Per_Night\"]))\n",
    "print(\"Correlation between Usage & Mental Health:\", df[\"Avg_Daily_Usage_Hours\"].corr(df[\"Mental_Health_Score\"]))\n",
    "\n",
    "df[\"Sleep_Group\"] = pd.cut(df[\"Sleep_Hours_Per_Night\"], bins=[0, 6, 8, 24], labels=[\"<6\", \"6-8\", \"8+\"])\n",
    "print(df.groupby(\"Sleep_Group\")[\"Mental_Health_Score\"].mean())\n"
   ]
  },
  {
   "cell_type": "markdown",
   "id": "3d53af25",
   "metadata": {},
   "source": [
    "## 10. 🌍 Country-wise Usage Analysis"
   ]
  },
  {
   "cell_type": "code",
   "execution_count": null,
   "id": "e2ce50d8",
   "metadata": {},
   "outputs": [],
   "source": [
    "\n",
    "ct = df[\"Country\"].value_counts()\n",
    "print(ct.head())\n",
    "\n",
    "top = ct.head().index\n",
    "print(df[df[\"Country\"].isin(top)].groupby(\"Country\")[\"Avg_Daily_Usage_Hours\"].mean())\n"
   ]
  },
  {
   "cell_type": "markdown",
   "id": "f29f50e8",
   "metadata": {},
   "source": [
    "## 11. 💑 Relationship Status"
   ]
  },
  {
   "cell_type": "code",
   "execution_count": null,
   "id": "6b76e5cb",
   "metadata": {},
   "outputs": [],
   "source": [
    "\n",
    "rs = df[\"Relationship_Status\"].value_counts()\n",
    "print(rs)\n",
    "print(df.groupby(\"Relationship_Status\")[\"Avg_Daily_Usage_Hours\"].mean())\n",
    "print(df.groupby(\"Relationship_Status\")[\"Addicted_Score\"].mean())\n"
   ]
  },
  {
   "cell_type": "markdown",
   "id": "12813d35",
   "metadata": {},
   "source": [
    "## 12. 🧮 Creating New Categories"
   ]
  },
  {
   "cell_type": "code",
   "execution_count": null,
   "id": "db9cd88b",
   "metadata": {},
   "outputs": [],
   "source": [
    "\n",
    "df[\"Usage_Category\"] = pd.cut(df[\"Avg_Daily_Usage_Hours\"], bins=[0,3,6,float(\"inf\")], labels=[\"Light\",\"Moderate\",\"Heavy\"])\n",
    "print(df[\"Usage_Category\"].value_counts())\n",
    "print(df[\"Age_Group\"].value_counts())\n"
   ]
  }
 ],
 "metadata": {
  "language_info": {
   "name": "python"
  }
 },
 "nbformat": 4,
 "nbformat_minor": 5
}
