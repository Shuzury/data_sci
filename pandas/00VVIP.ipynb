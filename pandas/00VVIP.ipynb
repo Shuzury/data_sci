{
 "cells": [
  {
   "cell_type": "markdown",
   "id": "ef98a97b",
   "metadata": {},
   "source": [
    "# IMPORTANT NOTE"
   ]
  },
  {
   "cell_type": "markdown",
   "id": "3d641089",
   "metadata": {},
   "source": [
    "import numpy as np\n",
    "import pandas as pd\n",
    "\n",
    "## Use a raw string (r\"...\") to avoid issues with backslashes\n",
    "df = pd.read_csv(r\"C:\\Users\\wwwsh\\OneDrive\\Desktop\\proj_1\\data_sci\\kaggle\\one\\one.csv\")\n"
   ]
  },
  {
   "cell_type": "markdown",
   "id": "2fdadfaf",
   "metadata": {},
   "source": [
    "pura path copy karna right click karke from c drive and fir path sey pehle \"r\" laga dena"
   ]
  },
  {
   "cell_type": "markdown",
   "id": "fb23e815",
   "metadata": {},
   "source": [
    "# df.read_csv(r\"C:path\")"
   ]
  }
 ],
 "metadata": {
  "language_info": {
   "name": "python"
  }
 },
 "nbformat": 4,
 "nbformat_minor": 5
}
