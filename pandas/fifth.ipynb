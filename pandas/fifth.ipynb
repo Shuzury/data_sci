{
 "cells": [
  {
   "cell_type": "markdown",
   "id": "abcefadd",
   "metadata": {},
   "source": [
    "# 🧼 Handling Missing Data with Pandas\n",
    "\n",
    "In this notebook, we'll cover:\n",
    "- Detecting missing values\n",
    "- Deleting/removing missing data or unwanted columns\n",
    "- Filling missing data with static or computed values\n",
    "- Interpolating missing data using various methods\n"
   ]
  },
  {
   "cell_type": "code",
   "execution_count": 1,
   "id": "972ba8bb",
   "metadata": {},
   "outputs": [],
   "source": [
    "# 📥 Importing pandas\n",
    "import pandas as pd "
   ]
  },
  {
   "cell_type": "markdown",
   "id": "83627082",
   "metadata": {},
   "source": [
    "## 📊 Step 1: Create Sample DataFrame with Missing Values\n"
   ]
  },
  {
   "cell_type": "code",
   "execution_count": null,
   "id": "9d51a2df",
   "metadata": {},
   "outputs": [
    {
     "name": "stdout",
     "output_type": "stream",
     "text": [
      "        Name   Age   Salary  Performance Score\n",
      "0        Ram  28.0   5000.0               43.0\n",
      "1       None   NaN      NaN                NaN\n",
      "2  Ghanshyam  47.0  45000.0               26.0\n",
      "3  Dhanshyam  57.0   5200.0               59.0\n",
      "4      Aditi  17.0   4900.0               84.0\n",
      "5    Jagdish  27.0   7000.0               38.0\n",
      "6        Raj  77.0   9000.0               67.0\n",
      "7     Simran  25.0  17000.0               22.0\n"
     ]
    }
   ],
   "source": [
    "data = {\n",
    "    \"Name\": ['Ram', None, 'Ghanshyam', 'Dhanshyam', 'Aditi', 'Jagdish', 'Raj', 'Simran'],\n",
    "    \"Age\": [28, None, 47, 57, 17, 27, 77, 25],\n",
    "    \"Salary\": [5000, None, 45000, 5200, 4900, 7000, 9000, 17000],\n",
    "    \"Performance Score\": [43, None, 26, 59, 84, 38, 67, 22]  \n",
    "}\n",
    "df = pd.DataFrame(data)\n",
    "print(df)"
   ]
  },
  {
   "cell_type": "markdown",
   "id": "495de07e",
   "metadata": {},
   "source": [
    "## 🔍 Step 2: Detect Missing Data\n",
    "\n",
    "- `isnull()` returns a DataFrame of boolean values showing where data is missing.\n",
    "- `isnull().sum()` shows total number of missing values in each column.\n"
   ]
  },
  {
   "cell_type": "code",
   "execution_count": null,
   "id": "9ddc635c",
   "metadata": {},
   "outputs": [
    {
     "name": "stdout",
     "output_type": "stream",
     "text": [
      "Where is data missing?\n",
      "\n",
      "    Name    Age  Salary  Performance Score\n",
      "0  False  False   False              False\n",
      "1   True   True    True               True\n",
      "2  False  False   False              False\n",
      "3  False  False   False              False\n",
      "4  False  False   False              False\n",
      "5  False  False   False              False\n",
      "6  False  False   False              False\n",
      "7  False  False   False              False\n",
      "\n",
      "Total number of missing values per column:\n",
      "\n",
      "Name                 1\n",
      "Age                  1\n",
      "Salary               1\n",
      "Performance Score    1\n",
      "dtype: int64\n"
     ]
    }
   ],
   "source": [
    "print(\"Where is data missing?\\n\")\n",
    "print(df.isnull())\n",
    "\n",
    "print(\"\\nTotal number of missing values per column:\\n\")\n",
    "print(df.isnull().sum())"
   ]
  },
  {
   "cell_type": "markdown",
   "id": "410a8904",
   "metadata": {},
   "source": [
    "## 🧹 Step 3: Remove Missing Data\n",
    "\n",
    "We can remove:\n",
    "- Rows with any missing data using `dropna()`\n",
    "- Columns with missing data using `dropna(axis=1)`\n"
   ]
  },
  {
   "cell_type": "code",
   "execution_count": 4,
   "id": "7cea425b",
   "metadata": {},
   "outputs": [
    {
     "name": "stdout",
     "output_type": "stream",
     "text": [
      "After removing rows with missing values:\n",
      "\n",
      "        Name   Age   Salary  Performance Score\n",
      "0        Ram  28.0   5000.0               43.0\n",
      "2  Ghanshyam  47.0  45000.0               26.0\n",
      "3  Dhanshyam  57.0   5200.0               59.0\n",
      "4      Aditi  17.0   4900.0               84.0\n",
      "5    Jagdish  27.0   7000.0               38.0\n",
      "6        Raj  77.0   9000.0               67.0\n",
      "7     Simran  25.0  17000.0               22.0\n"
     ]
    }
   ],
   "source": [
    "# Removing rows with any missing values\n",
    "df_removed = df.copy()\n",
    "df_removed.dropna(inplace=True)\n",
    "print(\"After removing rows with missing values:\\n\")\n",
    "print(df_removed)"
   ]
  },
  {
   "cell_type": "markdown",
   "id": "93672d65",
   "metadata": {},
   "source": [
    "## 🧪 Step 4: Fill Missing Data (Imputation)\n",
    "\n",
    "We can use:\n",
    "- A constant value (e.g., 77)\n",
    "- A computed value like mean, median, or mode for specific columns\n"
   ]
  },
  {
   "cell_type": "code",
   "execution_count": 6,
   "id": "a46e5ad2",
   "metadata": {},
   "outputs": [
    {
     "name": "stdout",
     "output_type": "stream",
     "text": [
      "After filling missing Age and Salary with their means:\n",
      "\n",
      "        Name        Age   Salary  Performance Score\n",
      "0        Ram  28.000000   5000.0               43.0\n",
      "1       None  39.714286  13300.0                NaN\n",
      "2  Ghanshyam  47.000000  45000.0               26.0\n",
      "3  Dhanshyam  57.000000   5200.0               59.0\n",
      "4      Aditi  17.000000   4900.0               84.0\n",
      "5    Jagdish  27.000000   7000.0               38.0\n",
      "6        Raj  77.000000   9000.0               67.0\n",
      "7     Simran  25.000000  17000.0               22.0\n"
     ]
    },
    {
     "name": "stderr",
     "output_type": "stream",
     "text": [
      "C:\\Users\\wwwsh\\AppData\\Local\\Temp\\ipykernel_20152\\1415329042.py:8: FutureWarning: A value is trying to be set on a copy of a DataFrame or Series through chained assignment using an inplace method.\n",
      "The behavior will change in pandas 3.0. This inplace method will never work because the intermediate object on which we are setting values always behaves as a copy.\n",
      "\n",
      "For example, when doing 'df[col].method(value, inplace=True)', try using 'df.method({col: value}, inplace=True)' or df[col] = df[col].method(value) instead, to perform the operation inplace on the original object.\n",
      "\n",
      "\n",
      "  df_filled['Age'].fillna(df_filled['Age'].mean(), inplace=True)\n",
      "C:\\Users\\wwwsh\\AppData\\Local\\Temp\\ipykernel_20152\\1415329042.py:9: FutureWarning: A value is trying to be set on a copy of a DataFrame or Series through chained assignment using an inplace method.\n",
      "The behavior will change in pandas 3.0. This inplace method will never work because the intermediate object on which we are setting values always behaves as a copy.\n",
      "\n",
      "For example, when doing 'df[col].method(value, inplace=True)', try using 'df.method({col: value}, inplace=True)' or df[col] = df[col].method(value) instead, to perform the operation inplace on the original object.\n",
      "\n",
      "\n",
      "  df_filled['Salary'].fillna(df_filled['Salary'].mean(), inplace=True)\n"
     ]
    }
   ],
   "source": [
    "# Filling missing values with appropriate replacements\n",
    "df_filled = pd.DataFrame(data)  # recreate DataFrame\n",
    "\n",
    "# Fill entire DataFrame with constant (optional)\n",
    "# df_filled.fillna(77, inplace=True)\n",
    "\n",
    "# Fill specific columns with mean values\n",
    "df_filled['Age'].fillna(df_filled['Age'].mean(), inplace=True)\n",
    "df_filled['Salary'].fillna(df_filled['Salary'].mean(), inplace=True)\n",
    "\n",
    "print(\"After filling missing Age and Salary with their means:\\n\")\n",
    "print(df_filled)"
   ]
  },
  {
   "cell_type": "markdown",
   "id": "7573e129",
   "metadata": {},
   "source": [
    "# 🔄 Step 5: Interpolation in Pandas\n",
    "\n",
    "Interpolation is a method of estimating missing values between two known values.\n",
    "\n",
    "### Types of Interpolation:\n",
    "\n",
    "1. **Linear**:\n",
    "   - Fills missing values linearly from nearby values.\n",
    "   - Good for numeric trends.\n",
    "   - `method='linear'`\n",
    "\n",
    "2. **Polynomial**:\n",
    "   - Fills using polynomial equations of specified order (e.g., quadratic).\n",
    "   - Can be more accurate but risky if overfitted.\n",
    "   - `method='polynomial', order=n`\n",
    "\n",
    "3. **Time**:\n",
    "   - Interpolates assuming index is datetime.\n",
    "   - Useful for time series data.\n",
    "   - `method='time'` (only works with DateTimeIndex)\n"
   ]
  },
  {
   "cell_type": "code",
   "execution_count": 7,
   "id": "2c5d81d4",
   "metadata": {},
   "outputs": [
    {
     "name": "stdout",
     "output_type": "stream",
     "text": [
      "🔗 Linear Interpolation:\n",
      "\n",
      "        Name   Age   Salary  Performance Score\n",
      "0        Ram  28.0   5000.0               43.0\n",
      "1       None  37.5  25000.0               34.5\n",
      "2  Ghanshyam  47.0  45000.0               26.0\n",
      "3  Dhanshyam  57.0   5200.0               59.0\n",
      "4      Aditi  17.0   4900.0               84.0\n",
      "5    Jagdish  27.0   7000.0               38.0\n",
      "6        Raj  77.0   9000.0               67.0\n",
      "7     Simran  25.0  17000.0               22.0\n"
     ]
    },
    {
     "name": "stderr",
     "output_type": "stream",
     "text": [
      "C:\\Users\\wwwsh\\AppData\\Local\\Temp\\ipykernel_20152\\2171245244.py:6: FutureWarning: DataFrame.interpolate with object dtype is deprecated and will raise in a future version. Call obj.infer_objects(copy=False) before interpolating instead.\n",
      "  df_interp_linear.interpolate(method=\"linear\", inplace=True)\n"
     ]
    }
   ],
   "source": [
    "# Recreate original DataFrame\n",
    "df_interp = pd.DataFrame(data)\n",
    "\n",
    "# Interpolate missing values using linear method\n",
    "df_interp_linear = df_interp.copy()\n",
    "df_interp_linear.interpolate(method=\"linear\", inplace=True)\n",
    "\n",
    "print(\"🔗 Linear Interpolation:\\n\")\n",
    "print(df_interp_linear)"
   ]
  },
  {
   "cell_type": "code",
   "execution_count": 8,
   "id": "67f894cc",
   "metadata": {},
   "outputs": [
    {
     "name": "stderr",
     "output_type": "stream",
     "text": [
      "C:\\Users\\wwwsh\\AppData\\Local\\Temp\\ipykernel_20152\\1796064651.py:3: FutureWarning: DataFrame.interpolate with object dtype is deprecated and will raise in a future version. Call obj.infer_objects(copy=False) before interpolating instead.\n",
      "  df_interp_poly.interpolate(method=\"polynomial\", order=2, inplace=True)\n"
     ]
    },
    {
     "name": "stdout",
     "output_type": "stream",
     "text": [
      "📐 Polynomial Interpolation (order=2):\n",
      "\n",
      "        Name        Age        Salary  Performance Score\n",
      "0        Ram  28.000000   5000.000000          43.000000\n",
      "1       None  33.704057  49565.579422          19.593742\n",
      "2  Ghanshyam  47.000000  45000.000000          26.000000\n",
      "3  Dhanshyam  57.000000   5200.000000          59.000000\n",
      "4      Aditi  17.000000   4900.000000          84.000000\n",
      "5    Jagdish  27.000000   7000.000000          38.000000\n",
      "6        Raj  77.000000   9000.000000          67.000000\n",
      "7     Simran  25.000000  17000.000000          22.000000\n"
     ]
    }
   ],
   "source": [
    "# Polynomial interpolation (order=2)\n",
    "df_interp_poly = pd.DataFrame(data)\n",
    "df_interp_poly.interpolate(method=\"polynomial\", order=2, inplace=True)\n",
    "\n",
    "print(\"📐 Polynomial Interpolation (order=2):\\n\")\n",
    "print(df_interp_poly)"
   ]
  },
  {
   "cell_type": "markdown",
   "id": "0ea719d2",
   "metadata": {},
   "source": [
    "⚠️ **Note on Time Interpolation**\n",
    "\n",
    "`method='time'` only works if your DataFrame has a DateTime index or column. It does **not work** on plain integers or floats.\n",
    "\n",
    "Below is an example showing why it doesn’t work with just numeric values.\n"
   ]
  },
  {
   "cell_type": "code",
   "execution_count": null,
   "id": "7bae8cd2",
   "metadata": {},
   "outputs": [
    {
     "name": "stdout",
     "output_type": "stream",
     "text": [
      "Original DataFrame with missing time:\n",
      "\n",
      "   time  val\n",
      "0   1.0   10\n",
      "1   2.0   20\n",
      "2   NaN   30\n",
      "3   4.0   40\n",
      "4   NaN   50\n",
      "5   7.0   60\n",
      "6   NaN   70\n",
      "7  10.0  100\n",
      "\n",
      "Polynomial Interpolation on 'time':\n",
      "\n",
      "        time  val\n",
      "0   1.000000   10\n",
      "1   2.000000   20\n",
      "2   2.929293   30\n",
      "3   4.000000   40\n",
      "4   5.424242   50\n",
      "5   7.000000   60\n",
      "6   8.525253   70\n",
      "7  10.000000  100\n"
     ]
    }
   ],
   "source": [
    "# Example with numeric column for time\n",
    "data2 = {\n",
    "    \"time\": [1, 2, None, 4, None, 7, None, 10],\n",
    "    \"val\": [10, 20, 30, 40, 50, 60, 70, 100]\n",
    "}\n",
    "df2 = pd.DataFrame(data2)\n",
    "print(\"Original DataFrame with missing time:\\n\")\n",
    "print(df2)\n",
    "\n",
    "print(\"\\nPolynomial Interpolation on 'time':\\n\")\n",
    "df2[\"time\"] = df2[\"time\"].interpolate(method=\"polynomial\", order=2)\n",
    "print(df2)\n",
    "\n",
    "# Reminder:\n",
    "# df2[\"time\"] = df2[\"time\"].interpolate(method=\"time\")  # ❌ Will not work without datetime"
   ]
  }
 ],
 "metadata": {
  "kernelspec": {
   "display_name": "Shuzury_57",
   "language": "python",
   "name": "python3"
  },
  "language_info": {
   "codemirror_mode": {
    "name": "ipython",
    "version": 3
   },
   "file_extension": ".py",
   "mimetype": "text/x-python",
   "name": "python",
   "nbconvert_exporter": "python",
   "pygments_lexer": "ipython3",
   "version": "3.12.11"
  }
 },
 "nbformat": 4,
 "nbformat_minor": 5
}
