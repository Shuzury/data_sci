{
 "cells": [
  {
   "cell_type": "markdown",
   "id": "5d9b60f3",
   "metadata": {},
   "source": [
    "# VERY_IMP ek bho code yaha nehi chalta , pata nehi iska conda ka kya issue hai , better copy paste in your khud ka alag python file"
   ]
  },
  {
   "cell_type": "markdown",
   "id": "fd46aa80",
   "metadata": {},
   "source": [
    "# What is Data Manipulation and Analysis?\n",
    "\n",
    "## Data Manipulation\n",
    "    Definition: Changing, organizing, or preparing data to make it useful and easier to understand.\n",
    "    Goal: To clean, transform, and structure raw data for better usability.\n",
    "    Example:\n",
    "    -> Organizing a Grocery List: Sorting random items into categories like \"Fruits\" or \"Dairy\".\n",
    "    -> Fixing Errors in a Student Record: Correcting missing or wrong grades.\n",
    "\n",
    "## Data Analysis\n",
    "    Definition: Extracting patterns, trends, and insights from the data to solve problems or make informed decisions.\n",
    "    Goal: To answer questions or identify trends using the data.\n",
    "    Example:\n",
    "    -> Analyzing Sales Trends: Finding the month with the highest revenue.\n",
    "    -> Tracking Fitness Progress: Analyzing daily steps and calories for activity patterns and improvements over time.\n",
    "    "
   ]
  },
  {
   "cell_type": "markdown",
   "id": "0895f0df",
   "metadata": {},
   "source": [
    "  # Key Differences Between Data Manipulation and Analysis:\n",
    "\n",
    " | Aspect      | Data Manipulation                        | Data Analysis                              |\n",
    "| ----------- | ---------------------------------------- | ------------------------------------------ |\n",
    "| **Focus**   | Preparing and cleaning data              | Extracting insights from prepared data     |\n",
    "| **Goal**    | Organize and structure raw data          | Find patterns, trends, and solve problems  |\n",
    "| **Example** | Fixing errors in a student's grade sheet | Analyzing which student scored the highest |\n"
   ]
  },
  {
   "cell_type": "markdown",
   "id": "2e0c141e",
   "metadata": {},
   "source": [
    "### **What is Pandas?**\n",
    "\n",
    "**Pandas** is a powerful and widely-used **Python library** designed for:\n",
    "\n",
    "* **Data Manipulation**: Cleaning, transforming, and structuring data.\n",
    "* **Data Analysis**: Identifying patterns, trends, and extracting insights.\n",
    "\n",
    "It simplifies working with **structured datasets** such as:\n",
    "\n",
    "* Tables\n",
    "* Spreadsheets\n",
    "* Time-series data\n",
    "\n",
    "With Pandas, tasks like filtering, grouping, merging, and summarizing data become much easier and more efficient.\n",
    "\n"
   ]
  },
  {
   "cell_type": "markdown",
   "id": "158c0164",
   "metadata": {},
   "source": [
    "### **What Makes Pandas Unique?**\n",
    "\n",
    "**Key Features:**\n",
    "a. Works seamlessly with structured data formats like CSV and Excel.\n",
    "\n",
    "b. Handles missing values easily.\n",
    "\n",
    "c. Built on NumPy for fast computations.\n",
    "### **Why Use Pandas?**\n",
    "\n",
    "**a. Performance:** Handles millions of rows efficiently.\n",
    "\n",
    "**b. Ease of Use:** Beginner-friendly syntax for cleaning and transforming data.\n",
    "\n",
    "**c. Integration:** Works with libraries like Matplotlib (for visualizations) and Scikit-learn (for machine learning).\n"
   ]
  },
  {
   "cell_type": "markdown",
   "id": "e2c07e79",
   "metadata": {},
   "source": [
    "## Real-Life Examples of Pandas in Action\n",
    "**Finance:**\n",
    "Analyzing time-series data like stock prices to identify market trends.\n",
    "\n",
    "**Retail:**\n",
    "Tracking inventory and finding the most sold products in a store.\n",
    "\n",
    "**Healthcare:**\n",
    "Analyzing patient records and outcomes from clinical trials.\n",
    "\n",
    "**Education:**\n",
    "Evaluating student performance across subjects to improve teaching strategies.\n",
    "\n",
    "**Sports:**\n",
    "Analyzing player statistics to make strategic decisions for upcoming games.\n",
    "\n",
    "**Transportation:**\n",
    "Monitoring vehicle GPS data to optimize delivery routes and reduce fuel costs.\n"
   ]
  },
  {
   "cell_type": "markdown",
   "id": "d671c0e7",
   "metadata": {},
   "source": [
    "## Key Pandas Concepts\n",
    "**Series:**\n",
    "A Series is a one-dimensional labeled array that can hold any data type: integers, floats, strings, or even Python objects. Each element in the Series has a unique label called an index.\n",
    "It is often used to track changes or patterns over time, such as daily temperatures, stock prices, or sales revenue.\n",
    "\n",
    "**DataFrame:**\n",
    "A DataFrame is a two-dimensional labeled data structure with columns of potentially different types. It’s like a spreadsheet or SQL table.\n",
    "DataFrames are commonly used to store datasets, such as customer information, product catalogs, or survey results.\n",
    "\n",
    "**Index:**\n",
    "An Index is used to label and align data in Series or DataFrames.\n",
    "It allows for fast lookups, selection, and alignment of data during operations like merging, joining, or slicing.\n"
   ]
  },
  {
   "cell_type": "markdown",
   "id": "51801445",
   "metadata": {},
   "source": [
    "**DataFrame:**\n",
    "A DataFrame is a two-dimensional labeled data structure in Pandas, similar to a table in a database, an Excel spreadsheet, or a SQL table.\n",
    "It consists of rows and columns, where:\n",
    "\n",
    "a. Rows have indices (labels).\n",
    "\n",
    "b. Columns have names (labels).\n",
    "\n",
    "c. Each column can contain data of different types (e.g., integer, float, string).\n",
    "\n",
    "d. It allows for easy data manipulation, filtering, and analysis using built-in Pandas functions.\n"
   ]
  },
  {
   "cell_type": "markdown",
   "id": "56a6208d",
   "metadata": {},
   "source": [
    "### Basically ,*Series* is 1D and *DataFrame* is 2D "
   ]
  },
  {
   "cell_type": "markdown",
   "id": "b2810e0b",
   "metadata": {},
   "source": [
    "# Reading files in pandas\n",
    "note , create a *\".py\"* file and perform all \n"
   ]
  },
  {
   "cell_type": "code",
   "execution_count": 2,
   "id": "c4227e4e",
   "metadata": {},
   "outputs": [
    {
     "name": "stdout",
     "output_type": "stream",
     "text": [
      "    id                                               name  \\\n",
      "0    1                                    Apple iPhone 12   \n",
      "1    2                                 Samsung Galaxy S21   \n",
      "2    3                                 Sony PlayStation 5   \n",
      "3    4                  LG OLED55CXPUA 55-inch 4K OLED TV   \n",
      "4    5        Bose QuietComfort 35 II Wireless Headphones   \n",
      "5    6                          Fitbit Versa 3 Smartwatch   \n",
      "6    7                             KitchenAid Stand Mixer   \n",
      "7    8                 Dyson V11 Absolute Cordless Vacuum   \n",
      "8    9                         Ninja Foodi Smart XL Grill   \n",
      "9   10                    Canon EOS Rebel T8i DSLR Camera   \n",
      "10  11                                  Apple AirPods Pro   \n",
      "11  12        Bose QuietComfort 35 II Wireless Headphones   \n",
      "12  13                    Fitbit Charge 4 Fitness Tracker   \n",
      "13  14                              Samsung Galaxy Watch3   \n",
      "14  15  Sony WH-1000XM4 Wireless Noise-Cancelling Head...   \n",
      "15  16          Breville Barista Express Espresso Machine   \n",
      "16  17                        Keurig K-Elite Coffee Maker   \n",
      "17  18                     iRobot Roomba i7+ Robot Vacuum   \n",
      "18  19                   Ninja Foodi Digital Air Fry Oven   \n",
      "19  20                   Cuisinart ICE-70 Ice Cream Maker   \n",
      "\n",
      "                                          description    price  \\\n",
      "0   The Apple iPhone 12 features a 6.1-inch Super ...   999.00   \n",
      "1   The Samsung Galaxy S21 features a 6.2-inch Dyn...   799.00   \n",
      "2   The Sony PlayStation 5 features an AMD Zen 2-b...   499.99   \n",
      "3   The LG OLED55CXPUA 55-inch 4K OLED TV features...  1599.99   \n",
      "4   The Bose QuietComfort 35 II Wireless Headphone...   299.00   \n",
      "5   The Fitbit Versa 3 Smartwatch features a built...   229.95   \n",
      "6   The KitchenAid Stand Mixer features a 5-quart ...   399.99   \n",
      "7   The Dyson V11 Absolute Cordless Vacuum feature...   699.99   \n",
      "8   The Ninja Foodi Smart XL Grill features 6-in-1...   279.99   \n",
      "9   The Canon EOS Rebel T8i DSLR Camera features a...   899.00   \n",
      "10  The Apple AirPods Pro feature active noise can...   249.00   \n",
      "11  The Bose QuietComfort 35 II Wireless Headphone...   299.00   \n",
      "12  The Fitbit Charge 4 Fitness Tracker features G...   129.95   \n",
      "13  The Samsung Galaxy Watch3 features a rotating ...   399.99   \n",
      "14  The Sony WH-1000XM4 Wireless Noise-Cancelling ...   349.99   \n",
      "15  The Breville Barista Express Espresso Machine ...   699.95   \n",
      "16  The Keurig K-Elite Coffee Maker features a str...   169.99   \n",
      "17  The iRobot Roomba i7+ Robot Vacuum features au...   799.99   \n",
      "18  The Ninja Foodi Digital Air Fry Oven features ...   209.99   \n",
      "19  The Cuisinart ICE-70 Ice Cream Maker features ...   139.99   \n",
      "\n",
      "           category                                              image  \n",
      "0       Electronics  https://www.apple.com/newsroom/images/product/...  \n",
      "1       Electronics  https://images.samsung.com/is/image/samsung/p6...  \n",
      "2       Electronics  https://www.sony.com/image/44baa604124b770c824...  \n",
      "3       Electronics  https://www.lg.com/us/images/tvs/md07501804/ga...  \n",
      "4       Electronics  https://assets.bose.com/content/dam/Bose_DAM/W...  \n",
      "5       Electronics  https://www.fitbit.com/global/content/dam/fitb...  \n",
      "6    Home & Kitchen  https://www.kitchenaid.com/content/dam/global/...  \n",
      "7   Home Appliances  https://www.dysoncanada.ca/dam/dyson/images/pr...  \n",
      "8    Home & Kitchen  https://www.ninjakitchen.com/medias/Ninja-OP50...  \n",
      "9       Electronics  https://www.canon.com.au/-/media/images/produc...  \n",
      "10      Electronics  https://www.apple.com/v/airpods-pro/b/images/m...  \n",
      "11      Electronics  https://assets.bose.com/content/dam/Bose_DAM/W...  \n",
      "12      Electronics  https://www.fitbit.com/global/content/dam/fitb...  \n",
      "13      Electronics  https://images.samsung.com/is/image/samsung/as...  \n",
      "14      Electronics  https://www.sony.com/image/1cdd6354c4cd21cc4f7...  \n",
      "15   Home & Kitchen  https://www.breville.com/content/dam/breville/...  \n",
      "16   Home & Kitchen  https://www.keurig.com/content/dam/global-ecom...  \n",
      "17   Home & Kitchen  https://store.irobot.com/default/i7-vacuuming-...  \n",
      "18   Home & Kitchen  https://www.ninjakitchen.com/static/img/produc...  \n",
      "19   Home & Kitchen  https://www.cuisinart.com/share/images/product...  \n"
     ]
    }
   ],
   "source": [
    "import pandas as pd\n",
    "# # to read a csv file\n",
    "# df=pd.read_csv(\"pract\\sales_data_sample.csv\",encoding=\"latin1\") #df= var name for DATAFRAME\n",
    "\n",
    "# # to read excel file\n",
    "# df = pd.read_excel(\"pract\\SampleSuperstore.xlsx\")\n",
    "\n",
    "# # to read json file\n",
    "df=pd.read_json(r\"C:\\Users\\wwwsh\\OneDrive\\Desktop\\proj_1\\data_sci\\pract\\sample_Data.json\")\n",
    "print(df)"
   ]
  },
  {
   "cell_type": "markdown",
   "id": "4c1734a6",
   "metadata": {},
   "source": [
    "## *Encoding* ke hai 2 jaat -> jab file na khule , tab kare prayog\n",
    "(1) \"filepath\",encoding=\"latin1\"\n",
    "\n",
    "(2) \"filepath\",encoding=\"utf-8\""
   ]
  },
  {
   "cell_type": "markdown",
   "id": "e0da8ab1",
   "metadata": {},
   "source": [
    "# 📂 Creating and Saving Files using Pandas\n",
    "\n",
    "In this notebook, we will:\n",
    "\n",
    "- Create a DataFrame using `pandas`\n",
    "- Save it into **CSV**, **Excel (XLSX)**, and **JSON** formats\n",
    "- Learn basic syntax for file-saving options\n"
   ]
  },
  {
   "cell_type": "code",
   "execution_count": 3,
   "id": "c0fb8486",
   "metadata": {},
   "outputs": [],
   "source": [
    "# 🔃 Step 1: Import required library\n",
    "import pandas as pd\n"
   ]
  },
  {
   "cell_type": "markdown",
   "id": "0280deb6",
   "metadata": {},
   "source": [
    "## 📋 Step 2: Create a DataFrame\n",
    "\n",
    "Let's create a sample dataset of names, ages, and cities.\n",
    "\n"
   ]
  },
  {
   "cell_type": "code",
   "execution_count": 4,
   "id": "13ce68e1",
   "metadata": {},
   "outputs": [
    {
     "name": "stdout",
     "output_type": "stream",
     "text": [
      "      Name  Age        City\n",
      "0  Shaunak   10    Shillong\n",
      "1  Sarthak   20     Silchar\n",
      "2    Ronit   30  Hailakandi\n"
     ]
    }
   ],
   "source": [
    "# Sample data\n",
    "data = {\n",
    "    \"Name\": ['Shaunak', 'Sarthak', 'Ronit'],\n",
    "    \"Age\": [10, 20, 30],\n",
    "    \"City\": ['Shillong', 'Silchar', 'Hailakandi']\n",
    "}\n",
    "\n",
    "# Creating DataFrame\n",
    "df = pd.DataFrame(data)\n",
    "print(df)\n"
   ]
  },
  {
   "cell_type": "markdown",
   "id": "6f67dabd",
   "metadata": {},
   "source": [
    "## 💾 Step 3: Save the DataFrame to Multiple Formats\n",
    "\n",
    "We'll save the above DataFrame into:\n",
    "- **CSV** file using `to_csv()`\n",
    "- **Excel (XLSX)** file using `to_excel()`\n",
    "- **JSON** file using `to_json()`\n",
    "\n",
    "All files will be saved inside the folder `pract/`. Make sure this folder exists or create it using `os.makedirs(\"pract\", exist_ok=True)` before saving.\n"
   ]
  },
  {
   "cell_type": "code",
   "execution_count": null,
   "id": "f9cabd7e",
   "metadata": {},
   "outputs": [],
   "source": [
    "#SAFETY, chatgpt karlo to understand better\n",
    "import os\n",
    "os.makedirs(\"saving\", exist_ok=True)\n",
    "\n",
    "# Save as CSV\n",
    "df.to_csv(\"saving/pratham.csv\", index=False)\n",
    "\n",
    "# Save as Excel\n",
    "df.to_excel(\"saving/pratham.xlsx\", index=False)\n",
    "\n",
    "# Save as JSON\n",
    "df.to_json(\"saving/pratham.json\", orient='records', lines=False)\n",
    "\n",
    "print(\"✅ All files saved successfully!\")\n"
   ]
  },
  {
   "cell_type": "markdown",
   "id": "8d9545ec",
   "metadata": {},
   "source": [
    "# agey kam kam , dusre notebook mey"
   ]
  }
 ],
 "metadata": {
  "kernelspec": {
   "display_name": "Shuzury_57",
   "language": "python",
   "name": "python3"
  },
  "language_info": {
   "codemirror_mode": {
    "name": "ipython",
    "version": 3
   },
   "file_extension": ".py",
   "mimetype": "text/x-python",
   "name": "python",
   "nbconvert_exporter": "python",
   "pygments_lexer": "ipython3",
   "version": "3.12.11"
  }
 },
 "nbformat": 4,
 "nbformat_minor": 5
}
