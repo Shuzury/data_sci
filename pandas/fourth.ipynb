{
 "cells": [
  {
   "cell_type": "markdown",
   "id": "d33398ed",
   "metadata": {},
   "source": [
    "# ➕ Adding New Columns in a DataFrame (Assignment & Insert)\n",
    "\n",
    "In this notebook, we'll learn how to add new columns to a pandas DataFrame in two ways:\n",
    "\n",
    "1. Using **assignment (`df[\"new_col\"] = values`)**\n",
    "2. Using **`df.insert(position_index, \"col_name\", values inside list \"[]\")`**"
   ]
  },
  {
   "cell_type": "code",
   "execution_count": 2,
   "id": "6ba29118",
   "metadata": {},
   "outputs": [],
   "source": [
    "# 🔃 Step 1: Import pandas\n",
    "import pandas as pd"
   ]
  },
  {
   "cell_type": "markdown",
   "id": "c06c6a29",
   "metadata": {},
   "source": [
    "## 📋 Step 2: Create the Initial DataFrame\n"
   ]
  },
  {
   "cell_type": "code",
   "execution_count": 3,
   "id": "72470c25",
   "metadata": {},
   "outputs": [],
   "source": [
    "# Sample employee data\n",
    "data = {\n",
    "    \"Name\": ['Ram', 'Shyam', 'Ghanshyam', 'Dhanshyam', 'Aditi', 'Jagdish', 'Raj', 'Simran'],\n",
    "    \"Age\" : [28, 32, 47, 57, 17, 27, 77, 25],\n",
    "    \"Salary\": [5000, 6000, 45000, 5200, 4900, 7000, 9000, 17000],\n",
    "    \"Performance Score\": [43, 71, 26, 59, 84, 38, 67, 22]  \n",
    "}\n",
    "\n",
    "# Creating the DataFrame\n",
    "df = pd.DataFrame(data)"
   ]
  },
  {
   "cell_type": "markdown",
   "id": "e7a8a8d3",
   "metadata": {},
   "source": [
    "## 🧾 Step 3: Add New Column using Assignment\n",
    "\n",
    "We will calculate **10% bonus** on salary and add it as a new column called `\"Bonus\"`.\n",
    "\n",
    "📌 Syntax:  \n",
    "```python\n",
    "df[\"new_col_name\"] = some_operation_on_existing_col\n"
   ]
  },
  {
   "cell_type": "code",
   "execution_count": 4,
   "id": "e283ae53",
   "metadata": {},
   "outputs": [],
   "source": [
    "# Adding Bonus column using assignment\n",
    "df[\"Bonus\"] = df[\"Salary\"] * (10 / 100)  # 10% of Salary"
   ]
  },
  {
   "cell_type": "markdown",
   "id": "b8c5734b",
   "metadata": {},
   "source": [
    "## 🧾 Step 4: Add New Column using `.insert()`\n",
    "\n",
    "We will add a new `\"Emp_ID\"` column at the beginning (position 0) using:\n",
    "\n",
    "📌 Syntax:\n",
    "```python\n",
    "df.insert(loc=0, column=\"Col_Name\", value=data_list)\n"
   ]
  },
  {
   "cell_type": "code",
   "execution_count": 5,
   "id": "56b3f972",
   "metadata": {},
   "outputs": [],
   "source": [
    "# Adding Emp_ID column at the first position\n",
    "df.insert(0, \"Emp_ID\", [10, 20, 30, 40, 50, 60, 70, 80])"
   ]
  },
  {
   "cell_type": "markdown",
   "id": "eb2e5a16",
   "metadata": {},
   "source": [
    "## 📊 Final DataFrame\n"
   ]
  },
  {
   "cell_type": "code",
   "execution_count": 6,
   "id": "26446922",
   "metadata": {},
   "outputs": [
    {
     "name": "stdout",
     "output_type": "stream",
     "text": [
      "   Emp_ID       Name  Age  Salary  Performance Score   Bonus\n",
      "0      10        Ram   28    5000                 43   500.0\n",
      "1      20      Shyam   32    6000                 71   600.0\n",
      "2      30  Ghanshyam   47   45000                 26  4500.0\n",
      "3      40  Dhanshyam   57    5200                 59   520.0\n",
      "4      50      Aditi   17    4900                 84   490.0\n",
      "5      60    Jagdish   27    7000                 38   700.0\n",
      "6      70        Raj   77    9000                 67   900.0\n",
      "7      80     Simran   25   17000                 22  1700.0\n"
     ]
    }
   ],
   "source": [
    "# Showing the final DataFrame with all columns\n",
    "print(df)"
   ]
  },
  {
   "cell_type": "markdown",
   "id": "f617a0d3",
   "metadata": {},
   "source": [
    "# 🛠️ Pandas Operations – Update, Increase, Delete\n",
    "\n",
    "In this notebook, we will learn how to:\n",
    "\n",
    "- Update specific values in a DataFrame\n",
    "- Increase numerical column values (like Salary)\n",
    "- Delete or drop unwanted columns\n",
    "\n",
    "We'll also include general syntax notes for all these operations.\n"
   ]
  },
  {
   "cell_type": "code",
   "execution_count": 7,
   "id": "b1f60861",
   "metadata": {},
   "outputs": [
    {
     "name": "stdout",
     "output_type": "stream",
     "text": [
      "🔰 Original DataFrame:\n",
      "\n",
      "        Name  Age  Salary  Performance Score\n",
      "0        Ram   28    5000                 43\n",
      "1      Shyam   32    6000                 71\n",
      "2  Ghanshyam   47   45000                 26\n",
      "3  Dhanshyam   57    5200                 59\n",
      "4      Aditi   17    4900                 84\n",
      "5    Jagdish   27    7000                 38\n",
      "6        Raj   77    9000                 67\n",
      "7     Simran   25   17000                 22\n"
     ]
    }
   ],
   "source": [
    "# Step 1: Import pandas and prepare sample data\n",
    "import pandas as pd\n",
    "\n",
    "data = {\n",
    "    \"Name\": ['Ram', 'Shyam', 'Ghanshyam', 'Dhanshyam', 'Aditi', 'Jagdish', 'Raj', 'Simran'],\n",
    "    \"Age\" : [28, 32, 47, 57, 17, 27, 77, 25],\n",
    "    \"Salary\": [5000, 6000, 45000, 5200, 4900, 7000, 9000, 17000],\n",
    "    \"Performance Score\": [43, 71, 26, 59, 84, 38, 67, 22]  \n",
    "}\n",
    "\n",
    "df = pd.DataFrame(data)\n",
    "print(\"🔰 Original DataFrame:\\n\")\n",
    "print(df)"
   ]
  },
  {
   "cell_type": "markdown",
   "id": "78cff356",
   "metadata": {},
   "source": [
    "## ✏️ Updating a Specific Cell using `.loc[]`\n",
    "\n",
    "We use `.loc[row_index, 'column_name'] = new_value` to update a specific value.\n",
    "\n",
    "Let's update **Shyam's salary** from 6000 to 6900.\n",
    "\n",
    "### 📌 Syntax:\n",
    "```python\n",
    "df.loc[row_index, 'column_name'] = new_value\n"
   ]
  },
  {
   "cell_type": "code",
   "execution_count": 8,
   "id": "ac9e6a9d",
   "metadata": {},
   "outputs": [
    {
     "name": "stdout",
     "output_type": "stream",
     "text": [
      "\n",
      "📌 Updated Salary of Shyam:\n",
      "\n",
      "        Name  Age  Salary  Performance Score\n",
      "0        Ram   28    5000                 43\n",
      "1      Shyam   32    6900                 71\n",
      "2  Ghanshyam   47   45000                 26\n",
      "3  Dhanshyam   57    5200                 59\n",
      "4      Aditi   17    4900                 84\n",
      "5    Jagdish   27    7000                 38\n",
      "6        Raj   77    9000                 67\n",
      "7     Simran   25   17000                 22\n"
     ]
    }
   ],
   "source": [
    "# Updating Shyam's salary (2nd row, index 1)\n",
    "df.loc[1, 'Salary'] = 6900\n",
    "print(\"\\n📌 Updated Salary of Shyam:\\n\")\n",
    "print(df)"
   ]
  },
  {
   "cell_type": "markdown",
   "id": "cc32b612",
   "metadata": {},
   "source": [
    "## 📈 Increasing All Salaries by 5%\n",
    "\n",
    "We can update an entire column using vectorized operations.\n",
    "\n",
    "### 📌 Syntax:\n",
    "```python\n",
    "df['Column'] = df['Column'] * multiplier\n"
   ]
  },
  {
   "cell_type": "code",
   "execution_count": 9,
   "id": "92a68585",
   "metadata": {},
   "outputs": [
    {
     "name": "stdout",
     "output_type": "stream",
     "text": [
      "\n",
      "💸 Salary after 5% increment:\n",
      "\n",
      "        Name  Age   Salary  Performance Score\n",
      "0        Ram   28   5250.0                 43\n",
      "1      Shyam   32   7245.0                 71\n",
      "2  Ghanshyam   47  47250.0                 26\n",
      "3  Dhanshyam   57   5460.0                 59\n",
      "4      Aditi   17   5145.0                 84\n",
      "5    Jagdish   27   7350.0                 38\n",
      "6        Raj   77   9450.0                 67\n",
      "7     Simran   25  17850.0                 22\n"
     ]
    }
   ],
   "source": [
    "# Increasing all salaries by 5%\n",
    "df['Salary'] = df['Salary'] * 1.05\n",
    "print(\"\\n💸 Salary after 5% increment:\\n\")\n",
    "print(df)"
   ]
  },
  {
   "cell_type": "markdown",
   "id": "08f0b9e2",
   "metadata": {},
   "source": [
    "## ❌ Deleting/Removing a Column using `.drop()`\n",
    "\n",
    "To remove unwanted columns, we use the `drop()` method.\n",
    "\n",
    "### 📌 Syntax:\n",
    "```python\n",
    "df.drop(columns=['col1', 'col2'], inplace=True)\n"
   ]
  },
  {
   "cell_type": "code",
   "execution_count": 10,
   "id": "ccbcb06d",
   "metadata": {},
   "outputs": [
    {
     "name": "stdout",
     "output_type": "stream",
     "text": [
      "\n",
      "🗑️ DataFrame after deleting 'Performance Score':\n",
      "\n",
      "        Name  Age   Salary\n",
      "0        Ram   28   5250.0\n",
      "1      Shyam   32   7245.0\n",
      "2  Ghanshyam   47  47250.0\n",
      "3  Dhanshyam   57   5460.0\n",
      "4      Aditi   17   5145.0\n",
      "5    Jagdish   27   7350.0\n",
      "6        Raj   77   9450.0\n",
      "7     Simran   25  17850.0\n"
     ]
    }
   ],
   "source": [
    "# Removing the Performance Score column\n",
    "df.drop(columns=[\"Performance Score\"], inplace=True)\n",
    "print(\"\\n🗑️ DataFrame after deleting 'Performance Score':\\n\")\n",
    "print(df)"
   ]
  },
  {
   "cell_type": "markdown",
   "id": "d22dff26",
   "metadata": {},
   "source": [
    "## 🧠 Summary of Syntax Used\n",
    "\n",
    "| Operation             | Syntax Example                                      |\n",
    "|-----------------------|-----------------------------------------------------|\n",
    "| Update specific cell  | `df.loc[row, 'col'] = value`                        |\n",
    "| Increase column values| `df['col'] = df['col'] * multiplier`               |\n",
    "| Drop columns          | `df.drop(columns=['col1', 'col2'], inplace=True)`  |\n",
    "| Create DataFrame      | `df = pd.DataFrame(data)`                          |\n",
    "\n",
    "These are some of the most common and useful DataFrame operations!\n"
   ]
  }
 ],
 "metadata": {
  "kernelspec": {
   "display_name": "Shuzury_57",
   "language": "python",
   "name": "python3"
  },
  "language_info": {
   "codemirror_mode": {
    "name": "ipython",
    "version": 3
   },
   "file_extension": ".py",
   "mimetype": "text/x-python",
   "name": "python",
   "nbconvert_exporter": "python",
   "pygments_lexer": "ipython3",
   "version": "3.12.11"
  }
 },
 "nbformat": 4,
 "nbformat_minor": 5
}
