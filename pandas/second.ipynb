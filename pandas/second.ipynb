{
 "cells": [
  {
   "cell_type": "markdown",
   "id": "3fa9787d",
   "metadata": {},
   "source": [
    "# 📊 Dataset Exploration: Understand, Identify Problems & Plan Next Steps\n",
    "\n",
    "In this notebook, we'll perform basic data exploration using a JSON dataset. The process includes:\n",
    "\n",
    "1. ✅ Understanding the dataset  \n",
    "2. ❗ Identifying potential problems  \n",
    "3. 📌 Planning next steps\n",
    "\n",
    "We'll also explore:\n",
    "- Viewing rows using `head()` and `tail()`\n",
    "- Checking data types\n",
    "- Counting missing values\n",
    "- Checking memory usage and structure\n"
   ]
  },
  {
   "cell_type": "code",
   "execution_count": null,
   "id": "bd8ae238",
   "metadata": {},
   "outputs": [],
   "source": [
    "# 🔃 Step 1: Importing required library\n",
    "import pandas as pd\n"
   ]
  },
  {
   "cell_type": "markdown",
   "id": "66ff5c58",
   "metadata": {},
   "source": [
    "## 📂 Step 2: Load the Dataset\n",
    "\n",
    "We are loading a JSON dataset located at `pract/sample_Data.json`.\n"
   ]
  },
  {
   "cell_type": "code",
   "execution_count": null,
   "id": "8826db10",
   "metadata": {},
   "outputs": [],
   "source": [
    "# 🔍 Load JSON file into DataFrame\n",
    "df = pd.read_json(\"pract/sample_Data.json\")\n"
   ]
  },
  {
   "cell_type": "markdown",
   "id": "cb87bf80",
   "metadata": {},
   "source": [
    "## ✅ Step 3: Understand the Dataset\n",
    "\n",
    "We will:\n",
    "- View top and bottom rows\n",
    "- Check dimensions\n",
    "- View column names\n",
    "- Get info about data types and memory usage\n"
   ]
  },
  {
   "cell_type": "code",
   "execution_count": null,
   "id": "8c39e03b",
   "metadata": {},
   "outputs": [],
   "source": [
    "# 📌 Show first 7 rows (initial inspection)\n",
    "print(\"🔹 Pehle 7 rows:\")\n",
    "print(df.head(7))  # head(n): Returns first n rows\n",
    "\n",
    "# 📌 Show last 7 rows\n",
    "print(\"\\n🔹 Last ke 7 rows:\")\n",
    "print(df.tail(7))  # tail(n): Returns last n rows\n",
    "\n",
    "# 📌 Default head() and tail(): first & last 5 rows\n",
    "print(\"\\n🔹 Starting ke 5 rows (default head):\")\n",
    "print(df.head())\n",
    "\n",
    "print(\"\\n🔹 Ending ke 5 rows (default tail):\")\n",
    "print(df.tail())\n"
   ]
  },
  {
   "cell_type": "markdown",
   "id": "945998c7",
   "metadata": {},
   "source": [
    "## ❗ Step 4: Identify Potential Problems\n",
    "\n",
    "We will:\n",
    "- Check number of rows and columns\n",
    "- Identify column names\n",
    "- Look at data types\n",
    "- Find missing (null) values\n"
   ]
  },
  {
   "cell_type": "code",
   "execution_count": null,
   "id": "29cd2c1a",
   "metadata": {},
   "outputs": [],
   "source": [
    "# 🔢 Data types, non-null values, memory usage\n",
    "print(\"\\nℹ️ DataFrame Info:\")\n",
    "df.info()"
   ]
  },
  {
   "cell_type": "markdown",
   "id": "055fb204",
   "metadata": {},
   "source": [
    "# 5 galti sey chut gaya \n",
    "## 📈 Step 6: Summary Statistics using `describe()`\n",
    "\n",
    "The `describe()` method gives us basic statistical info for all **numerical columns**, such as:\n",
    "\n",
    "- `count`: Number of non-null entries  \n",
    "- `mean`: Average value  \n",
    "- `std`: Standard deviation (spread) -> jitna kam std utna zyada consistent data  \n",
    "- `min`, `max`: Minimum and maximum values  \n",
    "- `25%`, `50%`, `75%`: Percentiles (useful to understand distribution)\n"
   ]
  },
  {
   "cell_type": "markdown",
   "id": "2873f8db",
   "metadata": {},
   "source": [
    "# VVIMP\n",
    "# 🧠 What do 25%, 50%, and 75% mean?\n",
    "\n",
    "They are **percentiles** (also called quartiles) that **help describe the spread/distribution of your data**.\n",
    "\n",
    "---\n",
    "\n",
    "### 📊 Think of your data as a sorted list of numbers.\n",
    "\n",
    "Suppose you have a sorted list of ages: \n",
    "[10, 12, 15, 18, 21, 24, 28, 30, 35, 40]\n",
    "\n",
    "---\n",
    "\n",
    "#### 🔸 25% → First Quartile (Q1)\n",
    "\n",
    "- **Meaning**: 25% of the values are **less than or equal to this value**.\n",
    "- In our list: 25% point = 3rd value = **15**\n",
    "- So, 25% of people are aged **15 or younger**\n",
    "\n",
    "---\n",
    "\n",
    "#### 🔸 50% → Second Quartile (Median)\n",
    "\n",
    "- **Meaning**: Half of the values (50%) are **less than or equal to this value**\n",
    "- This is also known as the **median**\n",
    "- In our list: Median = average of 5th and 6th values = (21+24)/2 = **22.5**\n",
    "- So, 50% of people are aged **22.5 or younger**\n",
    "\n",
    "---\n",
    "\n",
    "#### 🔸 75% → Third Quartile (Q3)\n",
    "\n",
    "- **Meaning**: 75% of the values are **less than or equal to this value**\n",
    "- In our list: 75% point = 8th value = **30**\n",
    "- So, 75% of people are aged **30 or younger**\n",
    "\n",
    "---\n",
    "\n",
    "### 📦 Visual Representation:\n",
    "|--------|--------|--------|--------|\n",
    " Min     25%      50%      75%     Max\n",
    "         Q1       Q2       Q3\n",
    "\n",
    "\n",
    "- This kind of division is also used in **boxplots** 📦 to visualize spread and detect outliers.\n",
    "\n",
    "---\n",
    "\n",
    "### ✅ Why it matters:\n",
    "\n",
    "These values help you understand:\n",
    "- If your data is **skewed** (leaning toward high or low values)\n",
    "- Whether there are **outliers** (values that are way too high or low)\n",
    "- How **spread out** your data is\n",
    "\n",
    "\n"
   ]
  },
  {
   "cell_type": "markdown",
   "id": "520fb62a",
   "metadata": {},
   "source": [
    "# 📊 Employee Data Analysis using Pandas\n",
    "\n",
    "In this notebook, we'll:\n",
    "\n",
    "- Create a sample dataset of employees\n",
    "- Display the dataset\n",
    "- Use `.describe()` to get statistical insights\n"
   ]
  },
  {
   "cell_type": "code",
   "execution_count": null,
   "id": "64b28aff",
   "metadata": {},
   "outputs": [],
   "source": [
    "# 🔃 Step 1: Import pandas library\n",
    "import pandas as pd"
   ]
  },
  {
   "cell_type": "markdown",
   "id": "091587fe",
   "metadata": {},
   "source": [
    "## 🧾 Step 2: Create the Dataset\n",
    "\n",
    "We are creating a simple dataset with the following columns:\n",
    "- Name\n",
    "- Age\n",
    "- Salary\n",
    "- Performance Score\n"
   ]
  },
  {
   "cell_type": "code",
   "execution_count": null,
   "id": "cef50c80",
   "metadata": {},
   "outputs": [],
   "source": [
    "# 🧱 Creating sample employee data\n",
    "data = {\n",
    "    \"Name\": ['Ram', 'Shyam', 'Ghanshyam', 'Dhanshyam', 'Aditi', 'Jagdish','Raj', 'Simran'],\n",
    "    \"Age\" : [28, 32, 47, 57, 17, 27, 77, 25],\n",
    "    \"Salary\": [5000, 6000, 45000, 5200, 4900, 7000, 9000, 17000],\n",
    "    \"Performance Score\": [43, 71, 26, 59, 84, 38, 67, 22]  \n",
    "}\n",
    "\n",
    "# 📋 Creating DataFrame from dictionary\n",
    "df = pd.DataFrame(data)"
   ]
  },
  {
   "cell_type": "markdown",
   "id": "93107e43",
   "metadata": {},
   "source": [
    "## 🔍 Step 3: View the Created Dataset\n",
    "We'll print the full DataFrame to inspect our data.\n"
   ]
  },
  {
   "cell_type": "code",
   "execution_count": null,
   "id": "945db4d3",
   "metadata": {},
   "outputs": [],
   "source": [
    "# Display the full dataset\n",
    "print(\"📌 Created Dataset:\")\n",
    "print(df)"
   ]
  },
  {
   "cell_type": "markdown",
   "id": "fc047a0f",
   "metadata": {},
   "source": [
    "## 📈 Step 4: Statistical Summary using `.describe()`\n",
    "\n",
    "This function provides:\n",
    "- Count, mean, std deviation\n",
    "- Min, 25%, 50%, 75%, and max values\n",
    "for all numeric columns.\n"
   ]
  },
  {
   "cell_type": "code",
   "execution_count": null,
   "id": "37786628",
   "metadata": {},
   "outputs": [],
   "source": [
    "# Statistical summary of numeric columns\n",
    "print(\"\\n📊 Statistical Summary (describe):\")\n",
    "print(df.describe())\n"
   ]
  },
  {
   "cell_type": "markdown",
   "id": "cfb79c8a",
   "metadata": {},
   "source": [
    "# baki kam agle notebook mey\n"
   ]
  }
 ],
 "metadata": {
  "kernelspec": {
   "display_name": "Shuzury_57",
   "language": "python",
   "name": "python3"
  },
  "language_info": {
   "codemirror_mode": {
    "name": "ipython",
    "version": 3
   },
   "file_extension": ".py",
   "mimetype": "text/x-python",
   "name": "python",
   "nbconvert_exporter": "python",
   "pygments_lexer": "ipython3",
   "version": "3.12.11"
  }
 },
 "nbformat": 4,
 "nbformat_minor": 5
}
