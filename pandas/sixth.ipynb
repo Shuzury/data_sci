{
 "cells": [
  {
   "cell_type": "markdown",
   "id": "1bd3deac",
   "metadata": {},
   "source": [
    "# 📊 Sorting, Aggregation & Grouping in Pandas\n",
    "\n",
    "This notebook demonstrates:\n",
    "- Sorting by one or more columns\n",
    "- Aggregation functions (mean, sum, min, max, etc.)\n",
    "- Grouping data with aggregation\n",
    "\n",
    "We'll use pandas to handle tabular data efficiently.\n"
   ]
  },
  {
   "cell_type": "code",
   "execution_count": 2,
   "id": "a3e357fa",
   "metadata": {},
   "outputs": [],
   "source": [
    "# 🔃 Importing pandas\n",
    "import pandas as pd"
   ]
  },
  {
   "cell_type": "markdown",
   "id": "a5ebd4be",
   "metadata": {},
   "source": [
    "## 📋 Sample DataFrame\n",
    "\n",
    "This is the sample data we'll use for all our operations.\n"
   ]
  },
  {
   "cell_type": "code",
   "execution_count": 3,
   "id": "e86932d1",
   "metadata": {},
   "outputs": [
    {
     "name": "stdout",
     "output_type": "stream",
     "text": [
      "        Name  Age  Salary  Performance Score\n",
      "0        Ram   28    5000                 43\n",
      "1      Shyam   32    6000                 71\n",
      "2  Ghanshyam   47   45000                 26\n",
      "3  Dhanshyam   57    5200                 59\n",
      "4      Aditi   17    4900                 84\n",
      "5    Jagdish   27    7000                 38\n",
      "6        Raj   77    9000                 67\n",
      "7     Simran   25   17000                 22\n"
     ]
    }
   ],
   "source": [
    "# Creating sample data\n",
    "data = {\n",
    "    \"Name\": ['Ram', 'Shyam', 'Ghanshyam', 'Dhanshyam', 'Aditi', 'Jagdish', 'Raj', 'Simran'],\n",
    "    \"Age\": [28, 32, 47, 57, 17, 27, 77, 25],\n",
    "    \"Salary\": [5000, 6000, 45000, 5200, 4900, 7000, 9000, 17000],\n",
    "    \"Performance Score\": [43, 71, 26, 59, 84, 38, 67, 22]\n",
    "}\n",
    "df = pd.DataFrame(data)\n",
    "print(df)"
   ]
  },
  {
   "cell_type": "markdown",
   "id": "a0649524",
   "metadata": {},
   "source": [
    "## 🔢 Sorting - Single Column\n",
    "\n",
    "Use `df.sort_values(by=\"column_name\", ascending=True/False, inplace=True)`\n",
    "\n",
    "- `ascending=True` → Ascending order\n",
    "- `ascending=False` → Descending order\n"
   ]
  },
  {
   "cell_type": "code",
   "execution_count": 4,
   "id": "f5f7dc80",
   "metadata": {},
   "outputs": [
    {
     "name": "stdout",
     "output_type": "stream",
     "text": [
      "📌 After Sorting by Name (ascending):\n",
      "        Name  Age  Salary  Performance Score\n",
      "4      Aditi   17    4900                 84\n",
      "3  Dhanshyam   57    5200                 59\n",
      "2  Ghanshyam   47   45000                 26\n",
      "5    Jagdish   27    7000                 38\n",
      "6        Raj   77    9000                 67\n",
      "0        Ram   28    5000                 43\n",
      "1      Shyam   32    6000                 71\n",
      "7     Simran   25   17000                 22\n"
     ]
    }
   ],
   "source": [
    "# Sort by Name (ascending)\n",
    "df.sort_values(by=\"Name\", ascending=True, inplace=True)\n",
    "print(\"📌 After Sorting by Name (ascending):\")\n",
    "print(df)"
   ]
  },
  {
   "cell_type": "markdown",
   "id": "1d97cb33",
   "metadata": {},
   "source": [
    "## 🔢 Sorting - Multiple Columns\n",
    "\n",
    "Syntax:\n",
    "```python\n",
    "df.sort_values(by=[\"col1\", \"col2\"], ascending=[True, False], inplace=True)\n"
   ]
  },
  {
   "cell_type": "code",
   "execution_count": 6,
   "id": "ab3baebc",
   "metadata": {},
   "outputs": [
    {
     "name": "stdout",
     "output_type": "stream",
     "text": [
      "📌 After Sorting by Age and Salary:\n",
      "        Name  Age  Salary  Performance Score\n",
      "4      Aditi   17    4900                 84\n",
      "7     Simran   25   17000                 22\n",
      "5    Jagdish   27    7000                 38\n",
      "0        Ram   28    5000                 43\n",
      "1      Shyam   32    6000                 71\n",
      "2  Ghanshyam   47   45000                 26\n",
      "3  Dhanshyam   57    5200                 59\n",
      "6        Raj   77    9000                 67\n"
     ]
    }
   ],
   "source": [
    "# Recreating DataFrame for fresh sort\n",
    "df = pd.DataFrame(data)\n",
    "\n",
    "# Sort by Age first, then Salary\n",
    "df.sort_values(by=[\"Age\", \"Salary\"], ascending=[True, True], inplace=True)\n",
    "print(\"📌 After Sorting by Age and Salary:\")\n",
    "print(df)"
   ]
  },
  {
   "cell_type": "markdown",
   "id": "bd44ff49",
   "metadata": {},
   "source": [
    "## 📈 Aggregation Functions\n",
    "\n",
    "We can use the following functions on a column:\n",
    "- `df[\"Column\"].mean()` → Average\n",
    "- `df[\"Column\"].sum()` → Total\n",
    "- `df[\"Column\"].min()` → Minimum\n",
    "- `df[\"Column\"].max()` → Maximum\n",
    "- `df[\"Column\"].std()` → Standard Deviation\n",
    "- `df[\"Column\"].count()` → Count of non-null values\n"
   ]
  },
  {
   "cell_type": "code",
   "execution_count": null,
   "id": "89859024",
   "metadata": {},
   "outputs": [
    {
     "name": "stdout",
     "output_type": "stream",
     "text": [
      "📊 Aggregation on Age column:\n",
      "Mean: 38.75\n",
      "Sum: 310\n",
      "Min: 17\n",
      "Max: 77\n",
      "Std Dev: 20.090865017287264\n",
      "Count: 8\n"
     ]
    }
   ],
   "source": [
    "# Aggregation Examples on Age column\n",
    "print(\"📊 Aggregation on Age column:\")\n",
    "print(\"Mean:\", df[\"Age\"].mean())\n",
    "print(\"Sum:\", df[\"Age\"].sum())\n",
    "print(\"Min:\", df[\"Age\"].min())\n",
    "print(\"Max:\", df[\"Age\"].max())\n",
    "print(\"Std Dev:\", df[\"Age\"].std())\n",
    "print(\"Count:\", df[\"Age\"].count())"
   ]
  },
  {
   "cell_type": "markdown",
   "id": "7b957b08",
   "metadata": {},
   "source": [
    "## 👥 Grouping and Aggregation\n",
    "\n",
    "### ➤ Group by Single Column\n",
    "Syntax:\n",
    "```python\n",
    "df.groupby(\"column\")[\"target_column\"].aggregation_function()\n"
   ]
  },
  {
   "cell_type": "code",
   "execution_count": 8,
   "id": "a6313ea2",
   "metadata": {},
   "outputs": [
    {
     "name": "stdout",
     "output_type": "stream",
     "text": [
      "📌 Grouped by Age (Total Salary):\n",
      "Age\n",
      "17     4900\n",
      "25    17000\n",
      "27     7000\n",
      "28     5000\n",
      "32     6000\n",
      "47    45000\n",
      "57     5200\n",
      "77     9000\n",
      "Name: Salary, dtype: int64\n"
     ]
    }
   ],
   "source": [
    "# Group by Age and calculate total Salary\n",
    "group1 = df.groupby(\"Age\")[\"Salary\"].sum()\n",
    "print(\"📌 Grouped by Age (Total Salary):\")\n",
    "print(group1)"
   ]
  }
 ],
 "metadata": {
  "kernelspec": {
   "display_name": "Shuzury_57",
   "language": "python",
   "name": "python3"
  },
  "language_info": {
   "codemirror_mode": {
    "name": "ipython",
    "version": 3
   },
   "file_extension": ".py",
   "mimetype": "text/x-python",
   "name": "python",
   "nbconvert_exporter": "python",
   "pygments_lexer": "ipython3",
   "version": "3.12.11"
  }
 },
 "nbformat": 4,
 "nbformat_minor": 5
}
