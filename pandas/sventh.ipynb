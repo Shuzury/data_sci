{
 "cells": [
  {
   "cell_type": "markdown",
   "id": "0c31db53",
   "metadata": {},
   "source": [
    "# 🔗 Merging, Joining, Concatenation and Cross Join in Pandas\n",
    "\n",
    "In this notebook, we'll cover:\n",
    "\n",
    "- Merge and join using different `how` methods\n",
    "- Cross join\n",
    "- Concatenation (vertical and horizontal stacking)\n"
   ]
  },
  {
   "cell_type": "code",
   "execution_count": 1,
   "id": "fa3cac4e",
   "metadata": {},
   "outputs": [],
   "source": [
    "import pandas as pd"
   ]
  },
  {
   "cell_type": "markdown",
   "id": "510594d9",
   "metadata": {},
   "source": [
    "## 🔄 Merge and Join in Pandas\n",
    "\n",
    "We can merge DataFrames based on a common key using:\n",
    "\n",
    "```python\n",
    "pd.merge(df1, df2, on='common_col', how='type')\n",
    "on: column name used as key (common in both)\n",
    "\n",
    "how: type of join: inner, outer, left, right"
   ]
  },
  {
   "cell_type": "code",
   "execution_count": 2,
   "id": "67d5c3c9",
   "metadata": {},
   "outputs": [
    {
     "name": "stdout",
     "output_type": "stream",
     "text": [
      "DataFrame 1:\n",
      "   id   name\n",
      "0   1    Ram\n",
      "1   2  Shyam\n",
      "2   3  Geeta\n",
      "3   4   Sita\n",
      "4   5   Ravi\n",
      "5   6   Neha\n",
      "6   7   Amit\n",
      "\n",
      "DataFrame 2:\n",
      "   id  amount\n",
      "0   1     250\n",
      "1   2     400\n",
      "2   3     150\n",
      "3   4     600\n",
      "4   6     500\n",
      "5   7     450\n"
     ]
    }
   ],
   "source": [
    "df1 = pd.DataFrame({\n",
    "    'id': [1, 2, 3, 4, 5, 6, 7],\n",
    "    'name': ['Ram', 'Shyam', 'Geeta', 'Sita', 'Ravi', 'Neha', 'Amit']\n",
    "})\n",
    "\n",
    "df2 = pd.DataFrame({\n",
    "    'id': [1, 2, 3, 4, 6, 7],  # \"id\" 5 is missing here\n",
    "    'amount': [250, 400, 150, 600, 500, 450]\n",
    "})\n",
    "\n",
    "print(\"DataFrame 1:\")\n",
    "print(df1)\n",
    "print(\"\\nDataFrame 2:\")\n",
    "print(df2)"
   ]
  },
  {
   "cell_type": "markdown",
   "id": "82afac04",
   "metadata": {},
   "source": [
    "## 🔁 Inner Join\n",
    "\n",
    "Only keeps rows where the `id` is present in **both** `df1` and `df2`.\n"
   ]
  },
  {
   "cell_type": "code",
   "execution_count": 3,
   "id": "cb4db5f1",
   "metadata": {},
   "outputs": [
    {
     "name": "stdout",
     "output_type": "stream",
     "text": [
      "🔗 Inner Join:\n",
      "   id   name  amount\n",
      "0   1    Ram     250\n",
      "1   2  Shyam     400\n",
      "2   3  Geeta     150\n",
      "3   4   Sita     600\n",
      "4   6   Neha     500\n",
      "5   7   Amit     450\n"
     ]
    }
   ],
   "source": [
    "inner_join = pd.merge(df1, df2, on=\"id\", how=\"inner\")\n",
    "print(\"🔗 Inner Join:\")\n",
    "print(inner_join)"
   ]
  },
  {
   "cell_type": "markdown",
   "id": "e6aac53b",
   "metadata": {},
   "source": [
    "## 🌐 Outer Join\n",
    "Keeps **all rows** from both DataFrames. Fills with `NaN` where data is missing.\n"
   ]
  },
  {
   "cell_type": "code",
   "execution_count": 4,
   "id": "bd490aae",
   "metadata": {},
   "outputs": [
    {
     "name": "stdout",
     "output_type": "stream",
     "text": [
      "🌐 Outer Join:\n",
      "   id   name  amount\n",
      "0   1    Ram   250.0\n",
      "1   2  Shyam   400.0\n",
      "2   3  Geeta   150.0\n",
      "3   4   Sita   600.0\n",
      "4   5   Ravi     NaN\n",
      "5   6   Neha   500.0\n",
      "6   7   Amit   450.0\n"
     ]
    }
   ],
   "source": [
    "outer_join = pd.merge(df1, df2, on=\"id\", how=\"outer\")\n",
    "print(\"🌐 Outer Join:\")\n",
    "print(outer_join)"
   ]
  },
  {
   "cell_type": "markdown",
   "id": "090540eb",
   "metadata": {},
   "source": [
    "## ⬅️ Left Join\n",
    "\n",
    "Keeps **all rows from df1**, and matches from df2 where possible.\n"
   ]
  },
  {
   "cell_type": "code",
   "execution_count": 5,
   "id": "4f2dead2",
   "metadata": {},
   "outputs": [
    {
     "name": "stdout",
     "output_type": "stream",
     "text": [
      "⬅️ Left Join:\n",
      "   id   name  amount\n",
      "0   1    Ram   250.0\n",
      "1   2  Shyam   400.0\n",
      "2   3  Geeta   150.0\n",
      "3   4   Sita   600.0\n",
      "4   5   Ravi     NaN\n",
      "5   6   Neha   500.0\n",
      "6   7   Amit   450.0\n"
     ]
    }
   ],
   "source": [
    "left_join = pd.merge(df1, df2, on=\"id\", how=\"left\")\n",
    "print(\"⬅️ Left Join:\")\n",
    "print(left_join)"
   ]
  },
  {
   "cell_type": "markdown",
   "id": "4ae1918e",
   "metadata": {},
   "source": [
    "## ➡️ Right Join\n",
    "\n",
    "Keeps **all rows from df2**, and matches from df1 where possible.\n"
   ]
  },
  {
   "cell_type": "code",
   "execution_count": 6,
   "id": "54a8bd9c",
   "metadata": {},
   "outputs": [
    {
     "name": "stdout",
     "output_type": "stream",
     "text": [
      "➡️ Right Join:\n",
      "   id   name  amount\n",
      "0   1    Ram     250\n",
      "1   2  Shyam     400\n",
      "2   3  Geeta     150\n",
      "3   4   Sita     600\n",
      "4   6   Neha     500\n",
      "5   7   Amit     450\n"
     ]
    }
   ],
   "source": [
    "right_join = pd.merge(df1, df2, on=\"id\", how=\"right\")\n",
    "print(\"➡️ Right Join:\")\n",
    "print(right_join)"
   ]
  },
  {
   "cell_type": "markdown",
   "id": "45fd2963",
   "metadata": {},
   "source": [
    "## 🔀 Cross Join\n",
    "\n",
    "Combines every row of `df1` with every row of `df2`.\n",
    "\n",
    "🧠 Cartesian Product: if df1 has `m` rows and df2 has `n` rows, result = `m * n` rows.\n"
   ]
  },
  {
   "cell_type": "code",
   "execution_count": 7,
   "id": "19e099b9",
   "metadata": {},
   "outputs": [
    {
     "name": "stdout",
     "output_type": "stream",
     "text": [
      "🔀 Cross Join (Cartesian Product):\n",
      "    id_x   name  id_y  amount\n",
      "0      1    Ram     1     250\n",
      "1      1    Ram     2     400\n",
      "2      1    Ram     3     150\n",
      "3      1    Ram     4     600\n",
      "4      1    Ram     6     500\n",
      "5      1    Ram     7     450\n",
      "6      2  Shyam     1     250\n",
      "7      2  Shyam     2     400\n",
      "8      2  Shyam     3     150\n",
      "9      2  Shyam     4     600\n",
      "10     2  Shyam     6     500\n",
      "11     2  Shyam     7     450\n",
      "12     3  Geeta     1     250\n",
      "13     3  Geeta     2     400\n",
      "14     3  Geeta     3     150\n",
      "15     3  Geeta     4     600\n",
      "16     3  Geeta     6     500\n",
      "17     3  Geeta     7     450\n",
      "18     4   Sita     1     250\n",
      "19     4   Sita     2     400\n",
      "20     4   Sita     3     150\n",
      "21     4   Sita     4     600\n",
      "22     4   Sita     6     500\n",
      "23     4   Sita     7     450\n",
      "24     5   Ravi     1     250\n",
      "25     5   Ravi     2     400\n",
      "26     5   Ravi     3     150\n",
      "27     5   Ravi     4     600\n",
      "28     5   Ravi     6     500\n",
      "29     5   Ravi     7     450\n",
      "30     6   Neha     1     250\n",
      "31     6   Neha     2     400\n",
      "32     6   Neha     3     150\n",
      "33     6   Neha     4     600\n",
      "34     6   Neha     6     500\n",
      "35     6   Neha     7     450\n",
      "36     7   Amit     1     250\n",
      "37     7   Amit     2     400\n",
      "38     7   Amit     3     150\n",
      "39     7   Amit     4     600\n",
      "40     7   Amit     6     500\n",
      "41     7   Amit     7     450\n"
     ]
    }
   ],
   "source": [
    "# Enabling cross join by adding dummy key to both\n",
    "df1_cross = df1.copy()\n",
    "df2_cross = df2.copy()\n",
    "df1_cross['key'] = 1\n",
    "df2_cross['key'] = 1\n",
    "\n",
    "cross_join = pd.merge(df1_cross, df2_cross, on='key').drop('key', axis=1)\n",
    "print(\"🔀 Cross Join (Cartesian Product):\")\n",
    "print(cross_join)"
   ]
  },
  {
   "cell_type": "markdown",
   "id": "3e25ba20",
   "metadata": {},
   "source": [
    "# 📚 Concatenation\n",
    "\n",
    "We can concatenate DataFrames:\n",
    "- **Vertically (row-wise)** using `axis=0`\n",
    "- **Horizontally (column-wise)** using `axis=1`\n"
   ]
  },
  {
   "cell_type": "code",
   "execution_count": 8,
   "id": "175b3b0d",
   "metadata": {},
   "outputs": [
    {
     "name": "stdout",
     "output_type": "stream",
     "text": [
      "⬇️ Vertical Concatenation:\n",
      "   id    nam\n",
      "0   1   Raju\n",
      "1   2  Rajiv\n",
      "2   3   Isha\n",
      "3   4  Ishan\n"
     ]
    }
   ],
   "source": [
    "df1 = pd.DataFrame({\n",
    "    \"id\": [1, 2],\n",
    "    \"nam\": [\"Raju\", \"Rajiv\"]\n",
    "})\n",
    "\n",
    "df2 = pd.DataFrame({\n",
    "    \"id\": [3, 4],\n",
    "    \"nam\": [\"Isha\", \"Ishan\"]\n",
    "})\n",
    "\n",
    "# 🧱 Vertical Concatenation\n",
    "vertical_concat = pd.concat([df1, df2], axis=0, ignore_index=True)\n",
    "print(\"⬇️ Vertical Concatenation:\")\n",
    "print(vertical_concat)"
   ]
  },
  {
   "cell_type": "code",
   "execution_count": 9,
   "id": "6bc943c6",
   "metadata": {},
   "outputs": [
    {
     "name": "stdout",
     "output_type": "stream",
     "text": [
      "➡️ Horizontal Concatenation:\n",
      "   id    nam  id    nam\n",
      "0   1   Raju   3   Isha\n",
      "1   2  Rajiv   4  Ishan\n"
     ]
    }
   ],
   "source": [
    "# 🧱 Horizontal Concatenation\n",
    "horizontal_concat = pd.concat([df1, df2], axis=1)\n",
    "print(\"➡️ Horizontal Concatenation:\")\n",
    "print(horizontal_concat)"
   ]
  }
 ],
 "metadata": {
  "kernelspec": {
   "display_name": "Shuzury_57",
   "language": "python",
   "name": "python3"
  },
  "language_info": {
   "codemirror_mode": {
    "name": "ipython",
    "version": 3
   },
   "file_extension": ".py",
   "mimetype": "text/x-python",
   "name": "python",
   "nbconvert_exporter": "python",
   "pygments_lexer": "ipython3",
   "version": "3.12.11"
  }
 },
 "nbformat": 4,
 "nbformat_minor": 5
}
