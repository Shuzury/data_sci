{
 "cells": [
  {
   "cell_type": "markdown",
   "id": "1d9a588a",
   "metadata": {},
   "source": [
    "# 📋 Creating and Exploring a Basic DataFrame in Pandas\n",
    "\n",
    "In this notebook, we will:\n",
    "\n",
    "1. Create a simple DataFrame using Python dictionaries\n",
    "2. Understand the shape (rows × columns)\n",
    "3. List all column names\n",
    "4. Review initial structure and contents\n"
   ]
  },
  {
   "cell_type": "code",
   "execution_count": null,
   "id": "306bae54",
   "metadata": {},
   "outputs": [],
   "source": [
    "# 🔃 Step 1: Import pandas\n",
    "import pandas as pd"
   ]
  },
  {
   "cell_type": "markdown",
   "id": "27849639",
   "metadata": {},
   "source": [
    "## 🧱 Step 2: Define the dataset\n",
    "\n",
    "We are creating a dictionary with:\n",
    "- Name\n",
    "- Age\n",
    "- Salary\n",
    "- Performance Score\n",
    "\n",
    "We'll convert this into a pandas DataFrame.\n"
   ]
  },
  {
   "cell_type": "code",
   "execution_count": null,
   "id": "03fac42b",
   "metadata": {},
   "outputs": [],
   "source": [
    "# Sample employee data\n",
    "data = {\n",
    "    \"Name\": ['Ram', 'Shyam', 'Ghanshyam', 'Dhanshyam', 'Aditi', 'Jagdish', 'Raj', 'Simran'],\n",
    "    \"Age\" : [28, 32, 47, 57, 17, 27, 77, 25],\n",
    "    \"Salary\": [5000, 6000, 45000, 5200, 4900, 7000, 9000, 17000],\n",
    "    \"Performance Score\": [43, 71, 26, 59, 84, 38, 67, 22]\n",
    "}\n",
    "\n",
    "# ✅ Step 3: Create DataFrame from dictionary\n",
    "df = pd.DataFrame(data)\n",
    "print(\"📄 Employee Data:\")\n",
    "print(df)\n"
   ]
  },
  {
   "cell_type": "markdown",
   "id": "b1944c93",
   "metadata": {},
   "source": [
    "## 📐 Step 4: Understand the structure\n",
    "\n",
    "We will now:\n",
    "- Print the shape (rows, columns)\n",
    "- Print column names\n"
   ]
  },
  {
   "cell_type": "code",
   "execution_count": null,
   "id": "d05a52e6",
   "metadata": {},
   "outputs": [],
   "source": [
    "# 🧮 Shape of the DataFrame — like numpy array shape\n",
    "print(f\"\\nShape: {df.shape}\")  \n",
    "# Output: Shape: (8, 4) — 8 rows, 4 columns\n",
    "\n",
    "# 🏷️ Column names — shows the keys/fields used\n",
    "print(f\"Column Names: {df.columns.tolist()}\")\n"
   ]
  },
  {
   "cell_type": "markdown",
   "id": "d9e8a28b",
   "metadata": {},
   "source": [
    "  \n",
    "## ✍️ Notes:\n",
    "\n",
    "- `df.shape` ➝ Returns a tuple: **(number of rows, number of columns)**  \n",
    "  (Same concept as NumPy arrays — check your earlier NumPy notes!)\n",
    "\n",
    "- `df.columns` ➝ Returns an Index object containing the column names  \n",
    "  Use `.tolist()` to get them as a regular Python list.\n"
   ]
  },
  {
   "cell_type": "markdown",
   "id": "565e061c",
   "metadata": {},
   "source": [
    "# 🎯 Selecting Specific Columns and Filtering Rows in Pandas\n",
    "\n",
    "In this notebook, we will learn:\n",
    "\n",
    "- How to select single or multiple columns\n",
    "- How to filter rows based on conditions\n",
    "- Boolean indexing techniques\n",
    "- Combining multiple conditions using `&` and `|`\n"
   ]
  },
  {
   "cell_type": "code",
   "execution_count": null,
   "id": "4a111004",
   "metadata": {},
   "outputs": [],
   "source": [
    "# 🔃 Step 1: Import pandas\n",
    "import pandas as pd"
   ]
  },
  {
   "cell_type": "markdown",
   "id": "59225130",
   "metadata": {},
   "source": [
    "## 📋 Step 2: Creating Sample DataFrame\n"
   ]
  },
  {
   "cell_type": "code",
   "execution_count": null,
   "id": "8b5ad7cc",
   "metadata": {},
   "outputs": [],
   "source": [
    "data = {\n",
    "    \"Name\": ['Ram', 'Shyam', 'Ghanshyam', 'Dhanshyam', 'Aditi', 'Jagdish','Raj', 'Simran'],\n",
    "    \"Age\" : [28,32,47,57,17,27,77,25],\n",
    "    \"Salary\": [5000, 6000, 45000, 5200, 4900, 7000, 9000, 17000],\n",
    "    \"Performance Score\": [43, 71, 26, 59, 84, 38, 67, 22]  \n",
    "}\n",
    "\n",
    "df = pd.DataFrame(data)\n",
    "\n",
    "# Display full DataFrame\n",
    "print(df)\n",
    "\n",
    "# Display shape\n",
    "print(f\"\\n📐 Shape (Rows, Columns): {df.shape}\")  # Rows, Columns\n",
    "\n",
    "# Display column names\n",
    "print(f\"📝 Column Names: {df.columns.tolist()}\")  # List of column names\n"
   ]
  },
  {
   "cell_type": "markdown",
   "id": "9cb8d4a0",
   "metadata": {},
   "source": [
    "## 🔹 Select Specific Columns\n",
    "We can access specific columns using:\n",
    "\n",
    "- `df[\"column_name\"]` → returns a **Series**\n",
    "- `df[[\"col1\", \"col2\"]]` → returns a **DataFrame**\n"
   ]
  },
  {
   "cell_type": "code",
   "execution_count": null,
   "id": "d3afc64a",
   "metadata": {},
   "outputs": [],
   "source": [
    "# 🧍 Accessing a single column as Series\n",
    "nam = df[\"Name\"]\n",
    "print(\"🔸 Single Column (Series):\\n\", nam)\n",
    "\n",
    "# 🧑‍🤝‍🧑 Accessing multiple columns as DataFrame\n",
    "anek = df[[\"Name\", \"Age\"]]\n",
    "print(\"\\n🔸 Multiple Columns (DataFrame):\\n\", anek)\n",
    "\n",
    "# 📌 General syntax:\n",
    "# Single column:     df[\"column_name\"]\n",
    "# Multiple columns:  df[[\"col1\", \"col2\"]]"
   ]
  },
  {
   "cell_type": "markdown",
   "id": "34a2c516",
   "metadata": {},
   "source": [
    "## 🧪 Filtering Rows using Boolean Conditions\n",
    "\n",
    "We can filter rows using:\n",
    "\n",
    "- `df[df[\"column\"] > value]` → single condition\n",
    "- `df[(df[\"col1\"] > val1) & (df[\"col2\"] < val2)]` → AND condition\n",
    "- `df[(df[\"col1\"] > val1) | (df[\"col2\"] < val2)]` → OR condition\n",
    "\n",
    "Make sure to use **parentheses** around each condition!\n"
   ]
  },
  {
   "cell_type": "code",
   "execution_count": null,
   "id": "a209dae8",
   "metadata": {},
   "outputs": [],
   "source": [
    "# 🔎 Filtering rows: Single condition\n",
    "print(\"\\n🔍 Rows where Salary > 6000:\")\n",
    "shabji = df[df[\"Salary\"] > 6000]\n",
    "print(shabji)\n",
    "\n",
    "# 📌 Syntax: df[df[\"column_name\"] > value]"
   ]
  },
  {
   "cell_type": "code",
   "execution_count": null,
   "id": "25171a23",
   "metadata": {},
   "outputs": [],
   "source": [
    "# 🔎 Filtering rows: Two conditions using \"&\"\"\n",
    "print(\"\\n🔍 Rows where Salary > 6000 AND Age > 27:\")\n",
    "sahab = df[(df[\"Salary\"] > 6000) & (df[\"Age\"] > 27)]\n",
    "print(sahab)\n",
    "\n",
    "# 📌 Syntax: df[(df[\"col1\"] > val1) & (df[\"col2\"] > val2)]"
   ]
  },
  {
   "cell_type": "code",
   "execution_count": null,
   "id": "ea6f3a68",
   "metadata": {},
   "outputs": [],
   "source": [
    "# 🔎 Filtering rows: Multiple conditions using |\n",
    "print(\"\\n🔍 Rows where Salary > 6000 OR Performance Score > 43:\")\n",
    "bare_sahab = df[(df[\"Salary\"] > 6000) | (df[\"Performance Score\"] > 43)]\n",
    "print(bare_sahab)\n",
    "\n",
    "# 📌 Syntax: df[(df[\"col1\"] > val1) | (df[\"col2\"] > val2)]"
   ]
  },
  {
   "cell_type": "markdown",
   "id": "922fd604",
   "metadata": {},
   "source": [
    "## 🧠 Summary Notes (Cheat Sheet)\n",
    "\n",
    "- **Select single column (Series)**: `df[\"column_name\"]`\n",
    "- **Select multiple columns (DataFrame)**: `df[[\"col1\", \"col2\"]]`\n",
    "- **Filter rows - one condition**: `df[df[\"column\"] > value]`\n",
    "- **Filter rows - multiple conditions**:  \n",
    "  Use `&` for AND, `|` for OR, and wrap each condition in `()`\n",
    "\n",
    "✅ Always use parentheses when combining conditions!\n"
   ]
  }
 ],
 "metadata": {
  "language_info": {
   "name": "python"
  }
 },
 "nbformat": 4,
 "nbformat_minor": 5
}
