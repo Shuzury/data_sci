{
 "cells": [
  {
   "cell_type": "markdown",
   "id": "9f60c371",
   "metadata": {},
   "source": [
    "# 🧹 Data Cleaning in Pandas: Indian Employees Dataset\n",
    "\n",
    "In this notebook, we will:\n",
    "\n",
    "- Load a real-world employee dataset\n",
    "- Identify and handle missing values (NaNs and `inf`)\n",
    "- Remove duplicates and fix inconsistent data\n",
    "- Save the cleaned dataset as a new CSV\n"
   ]
  },
  {
   "cell_type": "code",
   "execution_count": 1,
   "id": "a8ec556d",
   "metadata": {},
   "outputs": [],
   "source": [
    "# 📦 Load necessary libraries\n",
    "import pandas as pd\n",
    "import numpy as np"
   ]
  },
  {
   "cell_type": "markdown",
   "id": "11b6bed7",
   "metadata": {},
   "source": [
    "## 📂 Load the Dataset\n",
    "\n",
    "We'll load the file `indian_emp.csv` from the folder `practice/`.\n",
    "\n",
    "> Make sure the file path exists in your local machine!\n"
   ]
  },
  {
   "cell_type": "code",
   "execution_count": null,
   "id": "f9f6d617",
   "metadata": {},
   "outputs": [],
   "source": [
    "# Load dataset\n",
    "df = pd.read_csv(\"practice/indian_emp.csv\")\n",
    "\n",
    "# Display first few rows to understand the structure\n",
    "df.head()"
   ]
  },
  {
   "cell_type": "markdown",
   "id": "5267650b",
   "metadata": {},
   "source": [
    "## 🔍 Check for Missing Values (NaNs)\n",
    "\n",
    "We'll now identify how many missing values (`NaN`) are present in each column.\n"
   ]
  },
  {
   "cell_type": "code",
   "execution_count": null,
   "id": "8ebfabfb",
   "metadata": {},
   "outputs": [],
   "source": [
    "# Check how many values are missing per column\n",
    "print(\"🕳️ Gayab (Missing) Values:\")\n",
    "print(df.isnull().sum())"
   ]
  },
  {
   "cell_type": "markdown",
   "id": "7c49f2e4",
   "metadata": {},
   "source": [
    "## 🩹 Step 1: Fill Missing Values with Mean or Median\n",
    "\n",
    "We'll fix missing values using column-wise logic:\n",
    "- For **numerical columns** like Salary, Age, Experience: use **mean**\n",
    "- For **Performance Rating**: use **median**\n"
   ]
  },
  {
   "cell_type": "code",
   "execution_count": null,
   "id": "d019c2d3",
   "metadata": {},
   "outputs": [],
   "source": [
    "# Fill missing salary, age, experience using mean\n",
    "df[\"Salary (INR)\"] = df[\"Salary (INR)\"].fillna(df[\"Salary (INR)\"].mean())\n",
    "df[\"Age\"] = df[\"Age\"].fillna(df[\"Age\"].mean())\n",
    "df[\"Experience (Years)\"] = df[\"Experience (Years)\"].fillna(df[\"Experience (Years)\"].mean())\n",
    "\n",
    "# Fill performance rating using median\n",
    "df[\"Performance Rating\"] = df[\"Performance Rating\"].fillna(df[\"Performance Rating\"].median())   "
   ]
  },
  {
   "cell_type": "markdown",
   "id": "fd106b8a",
   "metadata": {},
   "source": [
    "## 🧠 Step 2: Handle Infinite (`inf`) Values\n",
    "\n",
    "We'll treat `\"inf\"` or `-inf` as missing (NaN), and then handle them just like other missing values.\n"
   ]
  },
  {
   "cell_type": "code",
   "execution_count": null,
   "id": "564147c2",
   "metadata": {},
   "outputs": [],
   "source": [
    "# Replace all inf/-inf with NaN\n",
    "df.replace([np.inf, -np.inf], np.nan, inplace=True)\n",
    "\n",
    "# Fill any remaining numeric NaNs with their column means\n",
    "df[df.select_dtypes(include=[np.number]).columns] = df.select_dtypes(include=[np.number]).fillna(\n",
    "    df.select_dtypes(include=[np.number]).mean()\n",
    ")"
   ]
  },
  {
   "cell_type": "markdown",
   "id": "e0fa4b2a",
   "metadata": {},
   "source": [
    "## 🧹 Step 3: Remove Duplicates\n",
    "\n",
    "Let's clean up any repeated rows in the data."
   ]
  },
  {
   "cell_type": "code",
   "execution_count": null,
   "id": "b21779d5",
   "metadata": {},
   "outputs": [],
   "source": [
    "# Drop duplicate rows\n",
    "df.drop_duplicates(inplace=True)"
   ]
  },
  {
   "cell_type": "markdown",
   "id": "d13b1c7e",
   "metadata": {},
   "source": [
    "## ⚠️ Step 4: Fix Negative Salaries\n",
    "\n",
    "Negative salaries are invalid, so we’ll replace them with the **average salary** using `np.where`.\n",
    "\n",
    "### 🔍 Explanation of this line:\n",
    "```python\n",
    "df[\"Salary (INR)\"] = np.where(df[\"Salary (INR)\"] < 0, df[\"Salary (INR)\"].mean(), df[\"Salary (INR)\"])\n"
   ]
  },
  {
   "cell_type": "markdown",
   "id": "31429e68",
   "metadata": {},
   "source": [
    "It checks where Salary < 0\n",
    "\n",
    "If True → replace with mean salary\n",
    "\n",
    "Else → keep original value"
   ]
  },
  {
   "cell_type": "code",
   "execution_count": null,
   "id": "30261823",
   "metadata": {},
   "outputs": [],
   "source": [
    "# Replace negative salary values with column mean\n",
    "df[\"Salary (INR)\"] = np.where(df[\"Salary (INR)\"] < 0, df[\"Salary (INR)\"].mean(), df[\"Salary (INR)\"])"
   ]
  },
  {
   "cell_type": "markdown",
   "id": "42c655e4",
   "metadata": {},
   "source": [
    "## 💾 Final Step: Save the Cleaned Data\n",
    "\n",
    "Let’s save the cleaned DataFrame to a new CSV file.\n"
   ]
  },
  {
   "cell_type": "code",
   "execution_count": null,
   "id": "03bf04ba",
   "metadata": {},
   "outputs": [],
   "source": [
    "# Save to new CSV file\n",
    "df.to_csv(\"practice/saaf_kiya.CSV\", index=False)\n",
    "print(\"✅ Data cleaning complete! File saved as 'saaf_kiya.CSV'\")"
   ]
  },
  {
   "cell_type": "markdown",
   "id": "a288267e",
   "metadata": {},
   "source": [
    "# incase you want the og code , check below"
   ]
  },
  {
   "cell_type": "code",
   "execution_count": null,
   "id": "33a68f3c",
   "metadata": {},
   "outputs": [],
   "source": [
    "# #Lib load import kiya\n",
    "import pandas as pd\n",
    "import numpy as np\n",
    "\n",
    "## load dataset\n",
    "df=pd.read_csv('practice/indian_emp.csv')\n",
    "# print(df.head()) # #helps to understand dataset ka structure i.e -> kya kya hai , col names\n",
    "\n",
    "##check mising val \"NaN\"\n",
    "# print(\"Gayab hai\")\n",
    "# print(df.isnull().sum()) # konse col mey kitne val missing hai dikhayega\n",
    "\n",
    "# # gayab values ko bhar rahe hai\n",
    "df[\"Salary (INR)\"] = df[\"Salary (INR)\"].fillna(df[\"Salary (INR)\"].mean())\n",
    "df[\"Performance Rating\"] = df[\"Performance Rating\"].fillna(df[\"Performance Rating\"].median())\n",
    "df[\"Age\"] = df[\"Age\"].fillna(df[\"Age\"].mean())\n",
    "df[\"Experience (Years)\"] = df[\"Experience (Years)\"].fillna(df[\"Experience (Years)\"].mean())\n",
    "\n",
    "\n",
    "# # \"inf\" values ki bari-> unko humne nan sey replace kar diya so that woh bhi gayab values ban jaye \n",
    "df.replace([np.inf,-np.inf],np.nan,inplace=True)\n",
    "df[df.select_dtypes(include=[np.number]).columns] = df.select_dtypes(include=[np.number]).fillna(df.select_dtypes(include=[np.number]).mean())  #\"inf\" values to \"nan\", \"nan\" to mean of col\n",
    "\n",
    "# # nakli ko hatayenge\n",
    "df.drop_duplicates(inplace=True)\n",
    "\n",
    "# # negative salaries ko thik karenge \n",
    "df[\"Salary (INR)\"]=np.where(df[\"Salary (INR)\"]<0,df[\"Salary (INR)\"].mean(),df[\"Salary (INR)\"]) # hey chatgpt do explain the function of this\n",
    "df.to_csv(\"practice/saaf_kiya.CSV\",index=False)\n",
    "print(\"samapti\")\n"
   ]
  },
  {
   "cell_type": "markdown",
   "id": "031d7691",
   "metadata": {},
   "source": [
    "# csv file below"
   ]
  },
  {
   "cell_type": "code",
   "execution_count": null,
   "id": "663eb4d2",
   "metadata": {},
   "outputs": [],
   "source": [
    "Emp_ID,Name,Age,Salary (INR),Experience (Years),City,Department,Performance Rating\n",
    "101,Amit Sharma,27,650000,4,Delhi,IT,4.5\n",
    "102,Riya Gupta,32,NaN,8,Mumbai,HR,3.8\n",
    "103,Rajesh Verma,45,1200000,inf,Bangalore,Finance,4.9\n",
    "104,Priya Singh,29,720000,6,Kolkata,IT,4.2\n",
    "105,Sunil Kumar,26,500000,3,Chennai,Sales,NaN\n",
    "106,Alok Mehta,52,2000000,28,Hyderabad,Operations,5\n",
    "107,Kavita Yadav,31,inf,10,Pune,IT,4\n",
    "108,Pankaj Mishra,24,-45000,2,Jaipur,Marketing,3.5\n",
    "109,Deepika Reddy,48,3000000,30,Bangalore,Management,5\n",
    "110,Ramesh Patil,29,720000,6,Kolkata,IT,4.2\n",
    "111,Meera Nair,34,820000,9,Kochi,HR,4.3\n",
    "112,Sameer Desai,37,1100000,15,Delhi,Finance,4.8\n",
    "113,Swati Joshi,29,650000,5,Mumbai,IT,4.6\n",
    "114,Vinod Iyer,55,5000000,35,Chennai,Management,5\n",
    "115,Anjali Saxena,23,380000,1,Pune,HR,3.9\n",
    "116,Manish Khanna,40,1250000,18,Hyderabad,Operations,4.7\n",
    "117,Arjun Pandey,31,750000,7,Jaipur,IT,4.4\n",
    "118,Neha Kapoor,28,NaN,4,Bangalore,IT,3.8\n",
    "119,Amit Sharma,27,650000,4,Delhi,IT,4.5\n",
    "120,Rohit Bansal,36,980000,12,Mumbai,Finance,4.9\n",
    "121,Suresh Choudhri,42,inf,20,Hyderabad,Operations,4.5\n",
    "122,Sneha Tiwari,25,550000,2,Kolkata,Sales,3.6\n",
    "123,Gopal Das,51,4800000,32,Kochi,Management,4.9\n",
    "124,Preeti Sharma,33,770000,8,Pune,HR,4.1\n",
    "125,Aditya Saxena,22,-30000,0,Delhi,IT,3.2\n",
    "126,Kiran Kumar,29,650000,5,Mumbai,IT,4.5\n",
    "127,Mohan Reddy,30,820000,7,Bangalore,HR,4.4\n",
    "128,Sanjay Agarwal,43,1400000,21,Chennai,Finance,4.8\n",
    "129,Rekha Nair,35,950000,11,Kochi,Operations,4.6\n",
    "130,Vikash Singh,28,680000,5,Delhi,IT,4.3\n",
    "131,Pooja Mishra,26,420000,2,Jaipur,Marketing,3.7\n",
    "132,Ravi Kumar,39,1150000,16,Hyderabad,Finance,4.7\n",
    "133,Nisha Patel,31,780000,8,Mumbai,HR,4.2\n",
    "134,Ajay Gupta,44,1800000,22,Bangalore,Operations,4.9\n",
    "135,Sunita Roy,27,580000,4,Kolkata,Sales,4.0\n",
    "136,Manoj Sharma,33,850000,9,Pune,IT,4.4\n",
    "137,Divya Nair,29,720000,6,Chennai,HR,4.1\n",
    "138,Rahul Jain,38,1300000,inf,Delhi,Finance,4.8\n",
    "139,Anita Singh,32,NaN,7,Mumbai,IT,4.0\n",
    "140,Sachin Reddy,46,2500000,25,Bangalore,Management,5\n",
    "141,Geeta Sharma,30,750000,6,Hyderabad,Operations,4.3\n",
    "142,Naveen Kumar,24,450000,1,Jaipur,Marketing,3.5\n",
    "143,Priyanka Das,35,1050000,13,Kochi,Finance,4.6\n",
    "144,Ashok Patel,41,1450000,19,Chennai,Operations,4.8\n",
    "145,Meena Gupta,28,670000,5,Delhi,IT,4.2\n",
    "146,Rajiv Singh,37,1200000,15,Mumbai,Finance,4.7\n",
    "147,Sushma Nair,33,inf,8,Bangalore,HR,4.3\n",
    "148,Harish Kumar,29,720000,6,Pune,IT,4.1\n",
    "149,Vandana Sharma,31,850000,9,Kolkata,Operations,4.5\n",
    "150,Deepak Reddy,36,1150000,14,Hyderabad,Finance,4.8\n",
    "151,Kavya Nair,NaN,950000,inf,Chennai,IT,NaN\n",
    "152,Rohit Agarwal,34,NaN,12,Delhi,Finance,4.6\n",
    "153,Seema Patel,inf,780000,NaN,Mumbai,HR,3.9\n",
    "154,Vijay Kumar,28,inf,6,Bangalore,Operations,NaN\n",
    "155,Nidhi Sharma,NaN,650000,inf,Pune,Marketing,4.2\n",
    "156,Arun Singh,42,NaN,inf,Kolkata,Management,NaN\n",
    "157,Ritu Gupta,NaN,inf,15,Hyderabad,Finance,4.7\n",
    "158,Manish Reddy,35,1200000,NaN,Kochi,IT,inf\n",
    "159,Shweta Nair,inf,NaN,8,Jaipur,HR,NaN\n",
    "160,Prakash Das,29,850000,inf,Chennai,Operations,NaN"
   ]
  }
 ],
 "metadata": {
  "kernelspec": {
   "display_name": "Shuzury_57",
   "language": "python",
   "name": "python3"
  },
  "language_info": {
   "codemirror_mode": {
    "name": "ipython",
    "version": 3
   },
   "file_extension": ".py",
   "mimetype": "text/x-python",
   "name": "python",
   "nbconvert_exporter": "python",
   "pygments_lexer": "ipython3",
   "version": "3.12.11"
  }
 },
 "nbformat": 4,
 "nbformat_minor": 5
}
